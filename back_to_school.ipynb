{
 "cells": [
  {
   "cell_type": "markdown",
   "metadata": {
    "kernel": "SoS"
   },
   "source": [
    "\n",
    "# The Impact of Mask Wearing on COVID-19 Outbreaks in Public School\n",
    "\n",
    "* August, 2021\n",
    "* Bo Peng, Ph.D. "
   ]
  },
  {
   "cell_type": "markdown",
   "metadata": {
    "kernel": "SoS"
   },
   "source": [
    "## Introduction\n",
    "\n",
    "With the increasing incidences of COVID-19 infections caused by the Delta variant, we are debating if we should enforce mask wearing in public schools.\n"
   ]
  },
  {
   "cell_type": "markdown",
   "metadata": {
    "kernel": "SoS"
   },
   "source": [
    "# Assumptions\n",
    "\n",
    "* **Community infection rate**: \n",
    "    * 2000 / 4.7 M (Harris) or 3000 / 9 M (Greater Houston Area), so about 400 / million. The true CIR should be much higher, around 1600 / million.\n",
    " \n",
    "* **Size of school and vaccination coverage**: \n",
    "    * High school, size 800, assume 60% adult vaccination rate.\n",
    "    * Elementary school, size 500, assume 60% vaccination rate for teachers, so ~ 3.8% overall vaccination coverage if we assume 15:1 teacher student ratio.\n",
    " \n",
    "* **Transmissibility of virus**: \n",
    "    * Delta variant: r0=6.5 for symptomatic cases and 4.6 for asymptomatic carriers, incubation period 4.4, 30% asymptomatic.\n",
    " \n",
    "* **Efficacy of vaccine**: \n",
    "    * Pfizer vaccine: 40% efficacy for preventing infection, around 30% efficacy for preventing secondary infection (infecting others).\n",
    " \n",
    "* **Duration of simulation**:\n",
    "    * 4 weeks.\n",
    " \n",
    "* **Mask wearing**:\n",
    "   * no mask (r0=6.5), or \n",
    "   * with mask, 80% reduction in transmission (r0=1.3 for symptomatic and 0.9 for asymptomatic).\n",
    " \n",
    "* **Output**: Distribution of number of infections.\n",
    " \n",
    "\n"
   ]
  },
  {
   "cell_type": "code",
   "execution_count": 1,
   "metadata": {
    "kernel": "SoS",
    "scrolled": true,
    "tags": []
   },
   "outputs": [],
   "source": [
    "import pandas as pd\n",
    "\n",
    "school_spec = {\n",
    "    'high': {'size': 800, 'vac_coverage': 0.6 },\n",
    "    'elementary': {'size': 500, 'vac_coverage': 0.6 / 15 }\n",
    "}\n",
    "\n",
    "communities = {\n",
    "    'C1600': dict(community_infection_rate=1600 / 1000000),\n",
    "    # 'D400': dict(community_infection_rate=400 / 1000000),\n",
    "}\n",
    "\n",
    "\n",
    "variants = {\n",
    "    'delta': dict(sym_r0=[5, 8], asym_r0=[5*0.75, 8*0.75], incu_period=4.4, name='B.1.617.2', prop_asym_carriers=0.3),\n",
    "}\n",
    "\n",
    "# 86/76 for alpha; 76/42 for delta; and 75-81% protection against hospitalizations.\n",
    "vaccination_specs = {\n",
    "    'pfizer': dict(\n",
    "            delta=dict(vac_immunity=[0.42, 0.38], vac_infectivity=[0.5, 0.5]),\n",
    "        ),    \n",
    "}\n",
    "\n",
    "distancing_spec = {\n",
    "    'no_mask': 1,\n",
    "    'with_mask': 0.2\n",
    "}\n",
    "\n",
    "def get_single_context(\n",
    "    school,\n",
    "    distancing,\n",
    "    community,\n",
    "):\n",
    "    variant = 'delta'\n",
    "    vac_name = 'pfizer'\n",
    "    return dict(\n",
    "        name=f'{community}_{school}_{distancing}',\n",
    "        #\n",
    "        community_infection_rate=communities[community]['community_infection_rate'],\n",
    "        #\n",
    "        # testing\n",
    "        vac_proportion=float(school_spec[school]['vac_coverage']) / 100,\n",
    "        \n",
    "        vac_immunity=' '.join(str(x) for x in vaccination_specs[vac_name][variant]['vac_immunity']),\n",
    "        vac_infectivity=' '.join(str(x) for x in vaccination_specs[vac_name][variant]['vac_infectivity']),\n",
    "                \n",
    "        # constant\n",
    "        pop_size=school_spec[school]['size'],\n",
    "        prop_asym_carriers=variants[variant][\"prop_asym_carriers\"],\n",
    "        \n",
    "        sym_r0=f'{variants[variant][\"sym_r0\"][0]:.2f} {variants[variant][\"sym_r0\"][1]:.2f}',\n",
    "        asym_r0=f'{variants[variant][\"asym_r0\"][0]:.2f} {variants[variant][\"asym_r0\"][1]:.2f}',\n",
    "        incu_period=variants[variant][\"incu_period\"],        \n",
    "        \n",
    "        distancing_multiplier=distancing_spec[distancing],\n",
    "        duration=28,\n",
    "        #\n",
    "        # use more replicates for lower community infection rate to save computing time\n",
    "        num_replicates=10000)\n",
    "\n",
    "\n",
    "def unique_contexts(contexts):\n",
    "    names = set()\n",
    "    res = []\n",
    "    for context in contexts:\n",
    "        if not context:\n",
    "            continue\n",
    "        if context['name'] in names:\n",
    "            continue\n",
    "        res.append(context)\n",
    "        names.add(context['name'])\n",
    "    return res\n",
    "\n",
    "\n",
    "def get_contexts(\n",
    "    school_cases=[],    \n",
    "    distancing_cases=[],    \n",
    "    community_cases=[],\n",
    "):\n",
    "    contexts = []\n",
    "    for school in school_cases:\n",
    "        for distancing in distancing_cases:\n",
    "            for community in community_cases:\n",
    "                contexts.append(\n",
    "                                get_single_context(school, distancing, community))\n",
    "    # remove duplicate\n",
    "    return unique_contexts(contexts)\n"
   ]
  },
  {
   "cell_type": "code",
   "execution_count": 2,
   "metadata": {
    "kernel": "SoS",
    "tags": []
   },
   "outputs": [
    {
     "data": {
      "text/html": [
       "<div class=\"sos_hint\">> cases: DataFrame of shape (4, 13)</div>"
      ],
      "text/plain": [
       ">>> cases:\n"
      ]
     },
     "metadata": {},
     "output_type": "display_data"
    },
    {
     "data": {
      "text/html": [
       "\n",
       "    <div class='dataframe_container' style=\"max-height:400px\">\n",
       "    <input type=\"text\" class='dataframe_input' id=\"search_cusndz6b\" onkeyup=\"filterDataFrame('cusndz6b')\" placeholder=\"Search for names..\">\n",
       "    <table border=\"1\" id=\"dataframe_cusndz6b\" class=\"sos_dataframe dataframe\">\n",
       "  <thead>\n",
       "    <tr style=\"text-align: right;\">\n",
       "      <th> &nbsp; <i class=\"fa fa-sort\" style=\"color:lightgray\" onclick=\"sortDataFrame('cusndz6b', 0, 'numeric')\"></th>\n",
       "      <th>name &nbsp; <i class=\"fa fa-sort\" style=\"color:lightgray\" onclick=\"sortDataFrame('cusndz6b', 1, 'alphabetic')\"></th>\n",
       "      <th>community_infection_rate &nbsp; <i class=\"fa fa-sort\" style=\"color:lightgray\" onclick=\"sortDataFrame('cusndz6b', 2, 'numeric')\"></th>\n",
       "      <th>vac_proportion &nbsp; <i class=\"fa fa-sort\" style=\"color:lightgray\" onclick=\"sortDataFrame('cusndz6b', 3, 'numeric')\"></th>\n",
       "      <th>vac_immunity &nbsp; <i class=\"fa fa-sort\" style=\"color:lightgray\" onclick=\"sortDataFrame('cusndz6b', 4, 'alphabetic')\"></th>\n",
       "      <th>vac_infectivity &nbsp; <i class=\"fa fa-sort\" style=\"color:lightgray\" onclick=\"sortDataFrame('cusndz6b', 5, 'alphabetic')\"></th>\n",
       "      <th>pop_size &nbsp; <i class=\"fa fa-sort\" style=\"color:lightgray\" onclick=\"sortDataFrame('cusndz6b', 6, 'numeric')\"></th>\n",
       "      <th>prop_asym_carriers &nbsp; <i class=\"fa fa-sort\" style=\"color:lightgray\" onclick=\"sortDataFrame('cusndz6b', 7, 'numeric')\"></th>\n",
       "      <th>sym_r0 &nbsp; <i class=\"fa fa-sort\" style=\"color:lightgray\" onclick=\"sortDataFrame('cusndz6b', 8, 'alphabetic')\"></th>\n",
       "      <th>asym_r0 &nbsp; <i class=\"fa fa-sort\" style=\"color:lightgray\" onclick=\"sortDataFrame('cusndz6b', 9, 'alphabetic')\"></th>\n",
       "      <th>incu_period &nbsp; <i class=\"fa fa-sort\" style=\"color:lightgray\" onclick=\"sortDataFrame('cusndz6b', 10, 'numeric')\"></th>\n",
       "      <th>distancing_multiplier &nbsp; <i class=\"fa fa-sort\" style=\"color:lightgray\" onclick=\"sortDataFrame('cusndz6b', 11, 'numeric')\"></th>\n",
       "      <th>duration &nbsp; <i class=\"fa fa-sort\" style=\"color:lightgray\" onclick=\"sortDataFrame('cusndz6b', 12, 'numeric')\"></th>\n",
       "      <th>num_replicates &nbsp; <i class=\"fa fa-sort\" style=\"color:lightgray\" onclick=\"sortDataFrame('cusndz6b', 13, 'numeric')\"></th>\n",
       "    </tr>\n",
       "  </thead>\n",
       "  <tbody>\n",
       "    <tr>\n",
       "      <th>0</th>\n",
       "      <td>C1600_high_with_mask</td>\n",
       "      <td>0.0016</td>\n",
       "      <td>0.0060</td>\n",
       "      <td>0.42 0.38</td>\n",
       "      <td>0.5 0.5</td>\n",
       "      <td>800</td>\n",
       "      <td>0.3</td>\n",
       "      <td>5.00 8.00</td>\n",
       "      <td>3.75 6.00</td>\n",
       "      <td>4.4</td>\n",
       "      <td>0.2</td>\n",
       "      <td>28</td>\n",
       "      <td>10000</td>\n",
       "    </tr>\n",
       "    <tr>\n",
       "      <th>1</th>\n",
       "      <td>C1600_high_no_mask</td>\n",
       "      <td>0.0016</td>\n",
       "      <td>0.0060</td>\n",
       "      <td>0.42 0.38</td>\n",
       "      <td>0.5 0.5</td>\n",
       "      <td>800</td>\n",
       "      <td>0.3</td>\n",
       "      <td>5.00 8.00</td>\n",
       "      <td>3.75 6.00</td>\n",
       "      <td>4.4</td>\n",
       "      <td>1.0</td>\n",
       "      <td>28</td>\n",
       "      <td>10000</td>\n",
       "    </tr>\n",
       "    <tr>\n",
       "      <th>2</th>\n",
       "      <td>C1600_elementary_with_mask</td>\n",
       "      <td>0.0016</td>\n",
       "      <td>0.0004</td>\n",
       "      <td>0.42 0.38</td>\n",
       "      <td>0.5 0.5</td>\n",
       "      <td>500</td>\n",
       "      <td>0.3</td>\n",
       "      <td>5.00 8.00</td>\n",
       "      <td>3.75 6.00</td>\n",
       "      <td>4.4</td>\n",
       "      <td>0.2</td>\n",
       "      <td>28</td>\n",
       "      <td>10000</td>\n",
       "    </tr>\n",
       "    <tr>\n",
       "      <th>3</th>\n",
       "      <td>C1600_elementary_no_mask</td>\n",
       "      <td>0.0016</td>\n",
       "      <td>0.0004</td>\n",
       "      <td>0.42 0.38</td>\n",
       "      <td>0.5 0.5</td>\n",
       "      <td>500</td>\n",
       "      <td>0.3</td>\n",
       "      <td>5.00 8.00</td>\n",
       "      <td>3.75 6.00</td>\n",
       "      <td>4.4</td>\n",
       "      <td>1.0</td>\n",
       "      <td>28</td>\n",
       "      <td>10000</td>\n",
       "    </tr>\n",
       "  </tbody>\n",
       "</table></div>"
      ]
     },
     "metadata": {},
     "output_type": "display_data"
    }
   ],
   "source": [
    "%preview cases -l 400\n",
    "\n",
    "all_contexts = get_contexts(\n",
    "    school_cases=['high', 'elementary'],\n",
    "    community_cases=[\n",
    "        'C1600',\n",
    "    ],\n",
    "    distancing_cases=['with_mask', 'no_mask'],\n",
    ")\n",
    "\n",
    "cases = pd.DataFrame(all_contexts)"
   ]
  },
  {
   "cell_type": "code",
   "execution_count": 3,
   "metadata": {
    "kernel": "SoS",
    "tags": []
   },
   "outputs": [
    {
     "data": {
      "text/html": [
       "\n",
       "<table id=\"task_macmini_t1ddb1f4d0d14833a_64e58549-15ca-48f1-bb4a-b560177ffa95\" class=\"task_table completed\">\n",
       "<tr>\n",
       "  <td class=\"task_icon\">\n",
       "    <i id=\"task_status_icon_macmini_t1ddb1f4d0d14833a_64e58549-15ca-48f1-bb4a-b560177ffa95\" class=\"fa fa-2x fa-fw fa-check-square-o\"\n",
       "    null null null></i>\n",
       "  </td>\n",
       "  <td class=\"task_id\">\n",
       "    <span><pre><i class=\"fa fa-fw fa-sitemap\"></i></pre><pre>t1ddb1f4d0d14833a<div class=\"task_id_actions\"><i class=\"fa fa-fw fa-refresh\" onclick=\"task_action({action:'status', task:'t1ddb1f4d0d14833a', queue: 'macmini'})\"></i><i class=\"fa fa-fw fa-play\" onclick=\"task_action({action:'execute', task:'t1ddb1f4d0d14833a', queue: 'macmini'})\"></i><i class=\"fa fa-fw fa-stop\"\" onclick=\"task_action({action:'kill', task:'t1ddb1f4d0d14833a', queue: 'macmini'})\"></i><i class=\"fa fa-fw fa-trash\"\" onclick=\"task_action({action:'purge', task:'t1ddb1f4d0d14833a', queue: 'macmini'})\"></i></div></pre></span>\n",
       "  </td>\n",
       "  <td class=\"task_tags\">\n",
       "    <span id=\"status_tags_macmini_t1ddb1f4d0d14833a_64e58549-15ca-48f1-bb4a-b560177ffa95\"><pre><i class=\"fa fa-fw fa-info-circle\"></i></pre><pre class=\"task_tags task_tag_C1600_high_with_mask\">C1600_high_with_mask<div class=\"task_tag_actions\"><i class=\"fa fa-fw fa-refresh\" onclick=\"task_action({action:'status', tag:'C1600_high_with_mask', queue: 'macmini'})\"></i><i class=\"fa fa-fw fa-stop\"\" onclick=\"task_action({action:'kill', tag:'C1600_high_with_mask', queue: 'macmini'})\"></i><i class=\"fa fa-fw fa-trash\"\" onclick=\"task_action({action:'purge', tag:'C1600_high_with_mask', queue: 'macmini'})\"></i></div></pre><pre class=\"task_tags task_tag_b043fba6b07fc533\">b043fba6b07fc533<div class=\"task_tag_actions\"><i class=\"fa fa-fw fa-refresh\" onclick=\"task_action({action:'status', tag:'b043fba6b07fc533', queue: 'macmini'})\"></i><i class=\"fa fa-fw fa-stop\"\" onclick=\"task_action({action:'kill', tag:'b043fba6b07fc533', queue: 'macmini'})\"></i><i class=\"fa fa-fw fa-trash\"\" onclick=\"task_action({action:'purge', tag:'b043fba6b07fc533', queue: 'macmini'})\"></i></div></pre><pre class=\"task_tags task_tag_back-to-school\">back-to-school<div class=\"task_tag_actions\"><i class=\"fa fa-fw fa-refresh\" onclick=\"task_action({action:'status', tag:'back-to-school', queue: 'macmini'})\"></i><i class=\"fa fa-fw fa-stop\"\" onclick=\"task_action({action:'kill', tag:'back-to-school', queue: 'macmini'})\"></i><i class=\"fa fa-fw fa-trash\"\" onclick=\"task_action({action:'purge', tag:'back-to-school', queue: 'macmini'})\"></i></div></pre><pre class=\"task_tags task_tag_cell_64e58549\">cell_64e58549<div class=\"task_tag_actions\"><i class=\"fa fa-fw fa-refresh\" onclick=\"task_action({action:'status', tag:'cell_64e58549', queue: 'macmini'})\"></i><i class=\"fa fa-fw fa-stop\"\" onclick=\"task_action({action:'kill', tag:'cell_64e58549', queue: 'macmini'})\"></i><i class=\"fa fa-fw fa-trash\"\" onclick=\"task_action({action:'purge', tag:'cell_64e58549', queue: 'macmini'})\"></i></div></pre></span>\n",
       "  </td>\n",
       "  <td class=\"task_timer\">\n",
       "    <pre><i class=\"fa fa-fw fa-clock-o\"></i><time id=\"status_duration_macmini_t1ddb1f4d0d14833a_64e58549-15ca-48f1-bb4a-b560177ffa95\" class=\"completed\" datetime=\"1629346562740.0989\">Ran for 5 min 3 sec</time></pre>\n",
       "  </td>\n",
       "  <td class=\"task_status\">\n",
       "    <pre><i class=\"fa fa-fw fa-tasks\"></i><span id=\"status_text_macmini_t1ddb1f4d0d14833a_64e58549-15ca-48f1-bb4a-b560177ffa95\">completed</span></pre>\n",
       "  </td>\n",
       "</tr>\n",
       "</table>\n"
      ]
     },
     "metadata": {},
     "output_type": "display_data"
    },
    {
     "data": {
      "text/html": [
       "\n",
       "<table id=\"task_macmini_t4b8cdb9873b4931e_64e58549-15ca-48f1-bb4a-b560177ffa95\" class=\"task_table running\">\n",
       "<tr>\n",
       "  <td class=\"task_icon\">\n",
       "    <i id=\"task_status_icon_macmini_t4b8cdb9873b4931e_64e58549-15ca-48f1-bb4a-b560177ffa95\" class=\"fa fa-2x fa-fw fa-spinner fa-pulse fa-spin\"\n",
       "    null null null></i>\n",
       "  </td>\n",
       "  <td class=\"task_id\">\n",
       "    <span><pre><i class=\"fa fa-fw fa-sitemap\"></i></pre><pre>t4b8cdb9873b4931e<div class=\"task_id_actions\"><i class=\"fa fa-fw fa-refresh\" onclick=\"task_action({action:'status', task:'t4b8cdb9873b4931e', queue: 'macmini'})\"></i><i class=\"fa fa-fw fa-play\" onclick=\"task_action({action:'execute', task:'t4b8cdb9873b4931e', queue: 'macmini'})\"></i><i class=\"fa fa-fw fa-stop\"\" onclick=\"task_action({action:'kill', task:'t4b8cdb9873b4931e', queue: 'macmini'})\"></i><i class=\"fa fa-fw fa-trash\"\" onclick=\"task_action({action:'purge', task:'t4b8cdb9873b4931e', queue: 'macmini'})\"></i></div></pre></span>\n",
       "  </td>\n",
       "  <td class=\"task_tags\">\n",
       "    <span id=\"status_tags_macmini_t4b8cdb9873b4931e_64e58549-15ca-48f1-bb4a-b560177ffa95\"><pre><i class=\"fa fa-fw fa-info-circle\"></i></pre><pre class=\"task_tags task_tag_C1600_high_no_mask\">C1600_high_no_mask<div class=\"task_tag_actions\"><i class=\"fa fa-fw fa-refresh\" onclick=\"task_action({action:'status', tag:'C1600_high_no_mask', queue: 'macmini'})\"></i><i class=\"fa fa-fw fa-stop\"\" onclick=\"task_action({action:'kill', tag:'C1600_high_no_mask', queue: 'macmini'})\"></i><i class=\"fa fa-fw fa-trash\"\" onclick=\"task_action({action:'purge', tag:'C1600_high_no_mask', queue: 'macmini'})\"></i></div></pre><pre class=\"task_tags task_tag_b043fba6b07fc533\">b043fba6b07fc533<div class=\"task_tag_actions\"><i class=\"fa fa-fw fa-refresh\" onclick=\"task_action({action:'status', tag:'b043fba6b07fc533', queue: 'macmini'})\"></i><i class=\"fa fa-fw fa-stop\"\" onclick=\"task_action({action:'kill', tag:'b043fba6b07fc533', queue: 'macmini'})\"></i><i class=\"fa fa-fw fa-trash\"\" onclick=\"task_action({action:'purge', tag:'b043fba6b07fc533', queue: 'macmini'})\"></i></div></pre><pre class=\"task_tags task_tag_back-to-school\">back-to-school<div class=\"task_tag_actions\"><i class=\"fa fa-fw fa-refresh\" onclick=\"task_action({action:'status', tag:'back-to-school', queue: 'macmini'})\"></i><i class=\"fa fa-fw fa-stop\"\" onclick=\"task_action({action:'kill', tag:'back-to-school', queue: 'macmini'})\"></i><i class=\"fa fa-fw fa-trash\"\" onclick=\"task_action({action:'purge', tag:'back-to-school', queue: 'macmini'})\"></i></div></pre><pre class=\"task_tags task_tag_cell_64e58549\">cell_64e58549<div class=\"task_tag_actions\"><i class=\"fa fa-fw fa-refresh\" onclick=\"task_action({action:'status', tag:'cell_64e58549', queue: 'macmini'})\"></i><i class=\"fa fa-fw fa-stop\"\" onclick=\"task_action({action:'kill', tag:'cell_64e58549', queue: 'macmini'})\"></i><i class=\"fa fa-fw fa-trash\"\" onclick=\"task_action({action:'purge', tag:'cell_64e58549', queue: 'macmini'})\"></i></div></pre></span>\n",
       "  </td>\n",
       "  <td class=\"task_timer\">\n",
       "    <pre><i class=\"fa fa-fw fa-clock-o\"></i><time id=\"status_duration_macmini_t4b8cdb9873b4931e_64e58549-15ca-48f1-bb4a-b560177ffa95\" class=\"running\" datetime=\"1629346864916.029\">Ran for 25 min 22 sec</time></pre>\n",
       "  </td>\n",
       "  <td class=\"task_status\">\n",
       "    <pre><i class=\"fa fa-fw fa-tasks\"></i><span id=\"status_text_macmini_t4b8cdb9873b4931e_64e58549-15ca-48f1-bb4a-b560177ffa95\">running</span></pre>\n",
       "  </td>\n",
       "</tr>\n",
       "</table>\n"
      ]
     },
     "metadata": {},
     "output_type": "display_data"
    },
    {
     "data": {
      "text/html": [
       "\n",
       "<table id=\"task_macmini_t2b04d6188950cf10_64e58549-15ca-48f1-bb4a-b560177ffa95\" class=\"task_table completed\">\n",
       "<tr>\n",
       "  <td class=\"task_icon\">\n",
       "    <i id=\"task_status_icon_macmini_t2b04d6188950cf10_64e58549-15ca-48f1-bb4a-b560177ffa95\" class=\"fa fa-2x fa-fw fa-check-square-o\"\n",
       "    null null null></i>\n",
       "  </td>\n",
       "  <td class=\"task_id\">\n",
       "    <span><pre><i class=\"fa fa-fw fa-sitemap\"></i></pre><pre>t2b04d6188950cf10<div class=\"task_id_actions\"><i class=\"fa fa-fw fa-refresh\" onclick=\"task_action({action:'status', task:'t2b04d6188950cf10', queue: 'macmini'})\"></i><i class=\"fa fa-fw fa-play\" onclick=\"task_action({action:'execute', task:'t2b04d6188950cf10', queue: 'macmini'})\"></i><i class=\"fa fa-fw fa-stop\"\" onclick=\"task_action({action:'kill', task:'t2b04d6188950cf10', queue: 'macmini'})\"></i><i class=\"fa fa-fw fa-trash\"\" onclick=\"task_action({action:'purge', task:'t2b04d6188950cf10', queue: 'macmini'})\"></i></div></pre></span>\n",
       "  </td>\n",
       "  <td class=\"task_tags\">\n",
       "    <span id=\"status_tags_macmini_t2b04d6188950cf10_64e58549-15ca-48f1-bb4a-b560177ffa95\"><pre><i class=\"fa fa-fw fa-info-circle\"></i></pre><pre class=\"task_tags task_tag_C1600_elementary_with_mask\">C1600_elementary_with_mask<div class=\"task_tag_actions\"><i class=\"fa fa-fw fa-refresh\" onclick=\"task_action({action:'status', tag:'C1600_elementary_with_mask', queue: 'macmini'})\"></i><i class=\"fa fa-fw fa-stop\"\" onclick=\"task_action({action:'kill', tag:'C1600_elementary_with_mask', queue: 'macmini'})\"></i><i class=\"fa fa-fw fa-trash\"\" onclick=\"task_action({action:'purge', tag:'C1600_elementary_with_mask', queue: 'macmini'})\"></i></div></pre><pre class=\"task_tags task_tag_b043fba6b07fc533\">b043fba6b07fc533<div class=\"task_tag_actions\"><i class=\"fa fa-fw fa-refresh\" onclick=\"task_action({action:'status', tag:'b043fba6b07fc533', queue: 'macmini'})\"></i><i class=\"fa fa-fw fa-stop\"\" onclick=\"task_action({action:'kill', tag:'b043fba6b07fc533', queue: 'macmini'})\"></i><i class=\"fa fa-fw fa-trash\"\" onclick=\"task_action({action:'purge', tag:'b043fba6b07fc533', queue: 'macmini'})\"></i></div></pre><pre class=\"task_tags task_tag_back-to-school\">back-to-school<div class=\"task_tag_actions\"><i class=\"fa fa-fw fa-refresh\" onclick=\"task_action({action:'status', tag:'back-to-school', queue: 'macmini'})\"></i><i class=\"fa fa-fw fa-stop\"\" onclick=\"task_action({action:'kill', tag:'back-to-school', queue: 'macmini'})\"></i><i class=\"fa fa-fw fa-trash\"\" onclick=\"task_action({action:'purge', tag:'back-to-school', queue: 'macmini'})\"></i></div></pre><pre class=\"task_tags task_tag_cell_64e58549\">cell_64e58549<div class=\"task_tag_actions\"><i class=\"fa fa-fw fa-refresh\" onclick=\"task_action({action:'status', tag:'cell_64e58549', queue: 'macmini'})\"></i><i class=\"fa fa-fw fa-stop\"\" onclick=\"task_action({action:'kill', tag:'cell_64e58549', queue: 'macmini'})\"></i><i class=\"fa fa-fw fa-trash\"\" onclick=\"task_action({action:'purge', tag:'cell_64e58549', queue: 'macmini'})\"></i></div></pre></span>\n",
       "  </td>\n",
       "  <td class=\"task_timer\">\n",
       "    <pre><i class=\"fa fa-fw fa-clock-o\"></i><time id=\"status_duration_macmini_t2b04d6188950cf10_64e58549-15ca-48f1-bb4a-b560177ffa95\" class=\"completed\" datetime=\"1629346563417.0518\">Ran for 2 min 47 sec</time></pre>\n",
       "  </td>\n",
       "  <td class=\"task_status\">\n",
       "    <pre><i class=\"fa fa-fw fa-tasks\"></i><span id=\"status_text_macmini_t2b04d6188950cf10_64e58549-15ca-48f1-bb4a-b560177ffa95\">completed</span></pre>\n",
       "  </td>\n",
       "</tr>\n",
       "</table>\n"
      ]
     },
     "metadata": {},
     "output_type": "display_data"
    },
    {
     "data": {
      "text/html": [
       "\n",
       "<table id=\"task_macmini_t16583b6df41c4001_64e58549-15ca-48f1-bb4a-b560177ffa95\" class=\"task_table running\">\n",
       "<tr>\n",
       "  <td class=\"task_icon\">\n",
       "    <i id=\"task_status_icon_macmini_t16583b6df41c4001_64e58549-15ca-48f1-bb4a-b560177ffa95\" class=\"fa fa-2x fa-fw fa-spinner fa-pulse fa-spin\"\n",
       "    null null null></i>\n",
       "  </td>\n",
       "  <td class=\"task_id\">\n",
       "    <span><pre><i class=\"fa fa-fw fa-sitemap\"></i></pre><pre>t16583b6df41c4001<div class=\"task_id_actions\"><i class=\"fa fa-fw fa-refresh\" onclick=\"task_action({action:'status', task:'t16583b6df41c4001', queue: 'macmini'})\"></i><i class=\"fa fa-fw fa-play\" onclick=\"task_action({action:'execute', task:'t16583b6df41c4001', queue: 'macmini'})\"></i><i class=\"fa fa-fw fa-stop\"\" onclick=\"task_action({action:'kill', task:'t16583b6df41c4001', queue: 'macmini'})\"></i><i class=\"fa fa-fw fa-trash\"\" onclick=\"task_action({action:'purge', task:'t16583b6df41c4001', queue: 'macmini'})\"></i></div></pre></span>\n",
       "  </td>\n",
       "  <td class=\"task_tags\">\n",
       "    <span id=\"status_tags_macmini_t16583b6df41c4001_64e58549-15ca-48f1-bb4a-b560177ffa95\"><pre><i class=\"fa fa-fw fa-info-circle\"></i></pre><pre class=\"task_tags task_tag_C1600_elementary_no_mask\">C1600_elementary_no_mask<div class=\"task_tag_actions\"><i class=\"fa fa-fw fa-refresh\" onclick=\"task_action({action:'status', tag:'C1600_elementary_no_mask', queue: 'macmini'})\"></i><i class=\"fa fa-fw fa-stop\"\" onclick=\"task_action({action:'kill', tag:'C1600_elementary_no_mask', queue: 'macmini'})\"></i><i class=\"fa fa-fw fa-trash\"\" onclick=\"task_action({action:'purge', tag:'C1600_elementary_no_mask', queue: 'macmini'})\"></i></div></pre><pre class=\"task_tags task_tag_b043fba6b07fc533\">b043fba6b07fc533<div class=\"task_tag_actions\"><i class=\"fa fa-fw fa-refresh\" onclick=\"task_action({action:'status', tag:'b043fba6b07fc533', queue: 'macmini'})\"></i><i class=\"fa fa-fw fa-stop\"\" onclick=\"task_action({action:'kill', tag:'b043fba6b07fc533', queue: 'macmini'})\"></i><i class=\"fa fa-fw fa-trash\"\" onclick=\"task_action({action:'purge', tag:'b043fba6b07fc533', queue: 'macmini'})\"></i></div></pre><pre class=\"task_tags task_tag_back-to-school\">back-to-school<div class=\"task_tag_actions\"><i class=\"fa fa-fw fa-refresh\" onclick=\"task_action({action:'status', tag:'back-to-school', queue: 'macmini'})\"></i><i class=\"fa fa-fw fa-stop\"\" onclick=\"task_action({action:'kill', tag:'back-to-school', queue: 'macmini'})\"></i><i class=\"fa fa-fw fa-trash\"\" onclick=\"task_action({action:'purge', tag:'back-to-school', queue: 'macmini'})\"></i></div></pre><pre class=\"task_tags task_tag_cell_64e58549\">cell_64e58549<div class=\"task_tag_actions\"><i class=\"fa fa-fw fa-refresh\" onclick=\"task_action({action:'status', tag:'cell_64e58549', queue: 'macmini'})\"></i><i class=\"fa fa-fw fa-stop\"\" onclick=\"task_action({action:'kill', tag:'cell_64e58549', queue: 'macmini'})\"></i><i class=\"fa fa-fw fa-trash\"\" onclick=\"task_action({action:'purge', tag:'cell_64e58549', queue: 'macmini'})\"></i></div></pre></span>\n",
       "  </td>\n",
       "  <td class=\"task_timer\">\n",
       "    <pre><i class=\"fa fa-fw fa-clock-o\"></i><time id=\"status_duration_macmini_t16583b6df41c4001_64e58549-15ca-48f1-bb4a-b560177ffa95\" class=\"running\" datetime=\"1629346728918.625\">Ran for 27 min 38 sec</time></pre>\n",
       "  </td>\n",
       "  <td class=\"task_status\">\n",
       "    <pre><i class=\"fa fa-fw fa-tasks\"></i><span id=\"status_text_macmini_t16583b6df41c4001_64e58549-15ca-48f1-bb4a-b560177ffa95\">running</span></pre>\n",
       "  </td>\n",
       "</tr>\n",
       "</table>\n"
      ]
     },
     "metadata": {},
     "output_type": "display_data"
    }
   ],
   "source": [
    "## The following cell uses SoS workflow to submit the jobs to a cluster system, with\n",
    "## output written to a temporary directory.\n",
    "\n",
    "scratch_dir = '.'\n",
    "\n",
    "input: for_each=all_contexts\n",
    "\n",
    "done_if(path(f'{scratch_dir}/{name}.log').exists())\n",
    "\n",
    "task: queue='localhost', cores=4, walltime='1h', mem='4G', tags=name, workdir=scratch_dir, trunk_size=1\n",
    "\n",
    "sh: expand=True\n",
    "  #rm -f {name}.log.lock\n",
    "  outbreak_simulator --popsize {pop_size} \\\n",
    "      --stop-if 't>{duration}' -j 4 \\\n",
    "      --track-events INFECTION WARNING PLUGIN SHOW_SYMPTOM QUARANTINE \\\n",
    "      --repeat {num_replicates} --resume \\\n",
    "      --symptomatic-r0 {sym_r0} all={distancing_multiplier} \\\n",
    "      --asymptomatic-r0 {asym_r0} all={distancing_multiplier} \\\n",
    "      --incubation-period {incu_period} \\\n",
    "      --prop-asym-carriers {prop_asym_carriers} \\\n",
    "      --handle-symptomatic 'quarantine?duration=10&infected=true' \\\n",
    "      --logfile {name}.log \\\n",
    "      --plugin vaccinate \\\n",
    "          --start 0 --proportion {vac_proportion} --immunity {vac_immunity} \\\n",
    "          --infectivity {vac_infectivity} \\\n",
    "      --plugin community_infection --start 1 --interval 1 --probability {community_infection_rate} "
   ]
  },
  {
   "cell_type": "code",
   "execution_count": 19,
   "metadata": {
    "kernel": "SoS",
    "tags": []
   },
   "outputs": [],
   "source": [
    "import pickle\n",
    "import os\n",
    "import re\n",
    "import csv\n",
    "import pandas as pd\n",
    "\n",
    "def get_result(name):\n",
    "    print(f'Processing {name}', flush=True)\n",
    "\n",
    "    res = {}\n",
    "    \n",
    "    file = open(name + '.log', 'rU')\n",
    "    reader = csv.reader(file, delimiter='\\t')\n",
    "    headers = next(reader, None)\n",
    "    IDs = set()\n",
    "    \n",
    "    n_tests = 0\n",
    "    n_detected = 0\n",
    "    n_false_positives = 0\n",
    "    n_workplace_infection = 0\n",
    "    n_community_infection = 0\n",
    "    n_quarantine_due_to_symptom = 0\n",
    "    n_quarantine_due_to_detection = 0\n",
    "    # n_replace_due_to_false_positive = 0\n",
    "    n_symptoms = 0\n",
    "    n_detected = 0\n",
    "    n_detected_false_positive = 0\n",
    "    \n",
    "    for row in reader:\n",
    "        IDs.add(row[0])\n",
    "        if row[2] == 'PLUGIN' and 'name=testing' in row[4]:\n",
    "            n_tests += int(re.match(r'.*n_tested=(\\d+),.*', row[4]).group(1))\n",
    "            n_detected += int(re.match(r'.*n_detected=(\\d+),.*', row[4]).group(1))\n",
    "            n_false_positives += int(re.match(r'.*n_false_positive=(\\d+),.*', row[4]).group(1))\n",
    "        elif row[2] == 'INFECTION':\n",
    "            if re.match(r'by=\\d', row[4]):\n",
    "                n_workplace_infection += 1\n",
    "            else:\n",
    "                n_community_infection += 1\n",
    "        elif row[2] == 'QUARANTINE':\n",
    "            if 'reason=show symptom' in row[4]:\n",
    "                n_quarantine_due_to_symptom += 1\n",
    "            elif 'reason=detected' in row[4]:\n",
    "                n_quarantine_due_to_detection += 1\n",
    "            #elif '=detected,infected=False' in row[4]:\n",
    "            #    n_replace_due_to_false_positive += 1\n",
    "    file.close()\n",
    "    \n",
    "    replicates = len(IDs)\n",
    "    \n",
    "    # we need to scale to 2000 person weeks\n",
    "    # num_events = 8 weeks * 60 people * replicates\n",
    "    # num_events * 2000/replicates/8/60 = 2000 week person\n",
    "    school = \"high\" if 'high' in name else 'elementary'\n",
    "    if school == \"high\":\n",
    "        scaling_factor = 1 / replicates\n",
    "    else:\n",
    "        scaling_factor = 1 / replicates\n",
    "\n",
    "    res['Avg number of community acquired Infections'] = n_community_infection * scaling_factor\n",
    "    res['Avg number of Workplace acquired Infections'] = n_workplace_infection * scaling_factor\n",
    "    res['Avg number of infections'] = (\n",
    "        n_community_infection + n_workplace_infection) * scaling_factor\n",
    "    res['Avg of symptomatic students'] = n_quarantine_due_to_symptom * scaling_factor\n",
    "    res['num_replicates'] = replicates\n",
    "\n",
    "    with open(name + '.pickle', 'wb') as outfile:\n",
    "        pickle.dump(res, outfile)\n",
    "    return res"
   ]
  },
  {
   "cell_type": "code",
   "execution_count": 20,
   "metadata": {
    "kernel": "SoS",
    "tags": []
   },
   "outputs": [
    {
     "name": "stdout",
     "output_type": "stream",
     "text": [
      "Processing C1600_high_with_mask\n",
      "Processing C1600_high_no_mask\n",
      "Processing C1600_elementary_with_mask\n",
      "Processing C1600_elementary_no_mask\n"
     ]
    }
   ],
   "source": [
    "for name in [x['name'] for x in all_contexts]:\n",
    "    get_result(name)"
   ]
  },
  {
   "cell_type": "markdown",
   "metadata": {
    "kernel": "SoS"
   },
   "source": [
    "## Results"
   ]
  },
  {
   "cell_type": "markdown",
   "metadata": {
    "kernel": "SoS"
   },
   "source": [
    "The following table lists some important statistics obtained from running 100,000 simulations for each scenario. The result is also available in EXCEL format. The columns of the table are:\n",
    "\n"
   ]
  },
  {
   "cell_type": "code",
   "execution_count": 21,
   "metadata": {
    "kernel": "SoS"
   },
   "outputs": [],
   "source": [
    "## This function retrieves results for all contexts as a Python DataFrame.\n",
    "\n",
    "import pickle\n",
    "import os\n",
    "import pandas as pd\n",
    "\n",
    "def get_results(contexts):\n",
    "    all_res = []\n",
    "    for context in contexts:\n",
    "        res_file = path(f'{context[\"name\"]}.pickle')\n",
    "        if not res_file.exists():\n",
    "            print(f'Missing {context[\"name\"]}')\n",
    "            continue\n",
    "        with open(res_file, 'rb') as infile:\n",
    "            loaded = pickle.load(infile)\n",
    "            if not 'num_replicates' in loaded or loaded[\"num_replicates\"] < context[\"num_replicates\"]:\n",
    "                print(f'WRONG {context[\"name\"]}')\n",
    "                #os.remove(res_file)\n",
    "                #continue\n",
    "            res = {\n",
    "                'name': context['name'],                \n",
    "#                 'Vaccination coverage (%)': int(context['vac_coverage'] * 100),\n",
    "                \n",
    "            }\n",
    "            res.update(loaded)\n",
    "            res.pop('num_replicates', None)\n",
    "            all_res.append(res)\n",
    "\n",
    "    all_res = pd.DataFrame(all_res)\n",
    "    return all_res\n",
    "\n",
    "pd.options.display.float_format = '{:,.3f}'.format\n"
   ]
  },
  {
   "cell_type": "code",
   "execution_count": 22,
   "metadata": {
    "kernel": "SoS",
    "tags": []
   },
   "outputs": [
    {
     "name": "stdout",
     "output_type": "stream",
     "text": [
      "WRONG C1600_high_no_mask\n",
      "WRONG C1600_elementary_no_mask\n"
     ]
    },
    {
     "data": {
      "text/html": [
       "<div class=\"sos_hint\">> res: DataFrame of shape (4, 5)</div>"
      ],
      "text/plain": [
       ">>> res:\n"
      ]
     },
     "metadata": {},
     "output_type": "display_data"
    },
    {
     "data": {
      "text/html": [
       "\n",
       "    <div class='dataframe_container' style=\"max-height:400px\">\n",
       "    <input type=\"text\" class='dataframe_input' id=\"search_jefhv2tw\" onkeyup=\"filterDataFrame('jefhv2tw')\" placeholder=\"Search for names..\">\n",
       "    <table border=\"1\" id=\"dataframe_jefhv2tw\" class=\"sos_dataframe dataframe\">\n",
       "  <thead>\n",
       "    <tr style=\"text-align: right;\">\n",
       "      <th> &nbsp; <i class=\"fa fa-sort\" style=\"color:lightgray\" onclick=\"sortDataFrame('jefhv2tw', 0, 'numeric')\"></th>\n",
       "      <th>name &nbsp; <i class=\"fa fa-sort\" style=\"color:lightgray\" onclick=\"sortDataFrame('jefhv2tw', 1, 'alphabetic')\"></th>\n",
       "      <th>Avg number of community acquired Infections &nbsp; <i class=\"fa fa-sort\" style=\"color:lightgray\" onclick=\"sortDataFrame('jefhv2tw', 2, 'numeric')\"></th>\n",
       "      <th>Avg number of Workplace acquired Infections &nbsp; <i class=\"fa fa-sort\" style=\"color:lightgray\" onclick=\"sortDataFrame('jefhv2tw', 3, 'numeric')\"></th>\n",
       "      <th>Avg number of infections &nbsp; <i class=\"fa fa-sort\" style=\"color:lightgray\" onclick=\"sortDataFrame('jefhv2tw', 4, 'numeric')\"></th>\n",
       "      <th>Avg of symptomatic students &nbsp; <i class=\"fa fa-sort\" style=\"color:lightgray\" onclick=\"sortDataFrame('jefhv2tw', 5, 'numeric')\"></th>\n",
       "    </tr>\n",
       "  </thead>\n",
       "  <tbody>\n",
       "    <tr>\n",
       "      <th>0</th>\n",
       "      <td>C1600_high_with_mask</td>\n",
       "      <td>33.957</td>\n",
       "      <td>58.155</td>\n",
       "      <td>92.112</td>\n",
       "      <td>51.471</td>\n",
       "    </tr>\n",
       "    <tr>\n",
       "      <th>1</th>\n",
       "      <td>C1600_high_no_mask</td>\n",
       "      <td>14.836</td>\n",
       "      <td>787.681</td>\n",
       "      <td>802.517</td>\n",
       "      <td>560.320</td>\n",
       "    </tr>\n",
       "    <tr>\n",
       "      <th>2</th>\n",
       "      <td>C1600_elementary_with_mask</td>\n",
       "      <td>21.264</td>\n",
       "      <td>36.862</td>\n",
       "      <td>58.126</td>\n",
       "      <td>32.494</td>\n",
       "    </tr>\n",
       "    <tr>\n",
       "      <th>3</th>\n",
       "      <td>C1600_elementary_no_mask</td>\n",
       "      <td>9.420</td>\n",
       "      <td>492.134</td>\n",
       "      <td>501.554</td>\n",
       "      <td>349.190</td>\n",
       "    </tr>\n",
       "  </tbody>\n",
       "</table></div>"
      ]
     },
     "metadata": {},
     "output_type": "display_data"
    }
   ],
   "source": [
    "%preview  res -l 4000\n",
    "\n",
    "res = get_results(all_contexts)\n",
    "\n",
    "with pd.ExcelWriter(path(f'results.xlsx'), engine='xlsxwriter') as writer: \n",
    "    res.to_excel(writer, index=False, sheet_name='All')\n",
    "    \n",
    "    workbook  = writer.book\n",
    "    \n",
    "    fmt_num = workbook.add_format({'num_format': '0.00'})\n",
    "    header_format = workbook.add_format({\n",
    "        'bold': True,\n",
    "        'text_wrap': True})\n",
    "    \n",
    "    worksheet = writer.sheets[\"All\"]\n",
    "    worksheet.set_column('J:P', None, fmt_num)\n",
    "    #worksheet.set_row(0, 0, header_format)"
   ]
  },
  {
   "cell_type": "code",
   "execution_count": null,
   "metadata": {
    "kernel": "SoS"
   },
   "outputs": [],
   "source": [
    "res.to_csv(path('#home/BoPeng/winddown/results.csv'))"
   ]
  },
  {
   "cell_type": "code",
   "execution_count": null,
   "metadata": {
    "kernel": "R"
   },
   "outputs": [],
   "source": [
    "%cd #home/BoPeng/winddown/\n",
    "res = read.csv('results.csv', check.names=FALSE)"
   ]
  },
  {
   "cell_type": "code",
   "execution_count": null,
   "metadata": {
    "kernel": "R",
    "tags": []
   },
   "outputs": [],
   "source": [
    "names(res)"
   ]
  },
  {
   "cell_type": "code",
   "execution_count": null,
   "metadata": {
    "kernel": "R"
   },
   "outputs": [],
   "source": [
    "head(res)"
   ]
  },
  {
   "cell_type": "code",
   "execution_count": null,
   "metadata": {
    "kernel": "R"
   },
   "outputs": [],
   "source": [
    "library(ggplot2)"
   ]
  },
  {
   "cell_type": "code",
   "execution_count": null,
   "metadata": {
    "kernel": "R"
   },
   "outputs": [],
   "source": [
    "plot_heatmap <- function(data, production, npi, variant, scale, rate) {\n",
    "#     data = res\n",
    "#     scale = 'All'\n",
    "#     rate = 'total'\n",
    "#    variant = 'delta'\n",
    "#    npi = 1\n",
    "    \n",
    "    selected = data\n",
    "    no_vac = data[data$`Vaccination efficacy at preventing transmission` == 'NOVAC', ]\n",
    "    for (vac in c('VAC50', 'VAC70', 'VAC95')) {\n",
    "        no_vac$`Vaccination efficacy at preventing transmission` = vac\n",
    "        no_vac$`Vaccination coverage (%)` = 0\n",
    "        selected = rbind(selected, no_vac)\n",
    "    }\n",
    "    selected = selected[selected$`Vaccination efficacy at preventing transmission` != 'NOVAC', ]\n",
    "    \n",
    "    selected = selected[selected$`Variant` == variant, ]\n",
    "    if (rate == 'workplace') {\n",
    "        title = paste('Production acquired infections,', npi * 100, '% workplace interactions', production, 'production, ', variant, 'variant')\n",
    "    } else if ( rate == 'total' ) {\n",
    "        title = paste('Total number of infections,', npi * 100, '% workplace interactions', production, 'production, ', variant, 'variant')\n",
    "    } else if ( rate == 'symptomatic' ) {\n",
    "        title = paste('Total number of symptomatic workers,', npi * 100, '% workplace interactions', production, 'production, ', variant, 'variant') \n",
    "    }\n",
    "    \n",
    "    if (production == 'small') {\n",
    "        selected = selected[selected$`Size of production` == '60x8 weeks',]\n",
    "    } else {\n",
    "        selected = selected[selected$`Size of production` != '60x8 weeks',]\n",
    "    }\n",
    "    filename = paste0(ifelse(production=='small', 'SM', 'LG'), '_', \n",
    "                      ifelse(variant=='alpha', 'al', ifelse(variant=='delta', 'de', 'or')), \n",
    "                      '_', ifelse(scale == 'All', 'all', 'unv'), '_npi', npi, '_', rate)        \n",
    "    \n",
    "    selected = selected[selected$NPI == npi, ]\n",
    "    \n",
    "    no_test = selected[selected$`Test name` == 'NOTEST', ]\n",
    "    selected = selected[selected$`Scale of testing` == scale, ]\n",
    "    title = paste0(title, ', testing ', tolower(scale))\n",
    "    if (scale == 'Unvaccinated') {\n",
    "        selected = rbind(selected, no_test)\n",
    "    }\n",
    "    \n",
    "    #\n",
    "    pdf(paste0(filename, '.pdf'), width=10, height=8)\n",
    "    \n",
    "    rate_breaks = c(0, 0.1, 1, 10, 100, Inf)\n",
    "    rate_labels = c(\"0 - 0.1\", \"0.1 - 1\", \"1 - 10\", \"10 - 100\", \"> 100\")\n",
    "    rate_colors = c(\"purple\", \"blue\",  \"orange\", \"brown\", \"red\")\n",
    "    selected$`CIR: Daily Infections per 100,000` = as.factor(selected$`Community infection rate (new daily cases per 100,000)`)\n",
    "    selected$`Vaccination coverage (%)` = as.factor(selected$`Vaccination coverage (%)`)\n",
    "    \n",
    "    selected$`Test Strategy` = factor(paste(selected$`Test name`, selected$`Test frequency`),\n",
    "                                      levels=c( 'PCR90 Daily', 'Ag80 Daily', 'PCR90 MWF', 'Ag80 MWF', 'PCR90 M' , 'Ag80 M', 'NOTEST ' ))\n",
    "  \n",
    "    if (rate == 'workplace') {\n",
    "        selected$`Production Acquired Infections` = cut(selected$`Number of Workplace acquired Infections (per 2000 person-week)`, \n",
    "                                      breaks=rate_breaks, right = FALSE,\n",
    "                                     labels=rate_labels)   \n",
    "        fig <- ggplot(selected, aes(`CIR: Daily Infections per 100,000`,\n",
    "               `Vaccination coverage (%)`, fill=`Production Acquired Infections`)) +\n",
    "            scale_fill_manual(breaks=rate_labels, values=rate_colors) + \n",
    "            geom_tile() + geom_text(aes(\n",
    "                label=round(`Number of Workplace acquired Infections (per 2000 person-week)`, 2)),\n",
    "            colour='white', size=1.5) + \n",
    "            facet_grid(rows=vars(`Test Strategy`), \n",
    "                             cols=vars(`Vaccination efficacy at preventing transmission`)) +\n",
    "            labs(title=title)\n",
    "        \n",
    "    } else if ( rate == 'total' ) {        \n",
    "          selected$`Number of Infections` = cut(selected$`Total number of Infections (per 2000 person-week)`, \n",
    "                                      breaks=rate_breaks, right = FALSE,\n",
    "                                     labels=rate_labels)\n",
    "          fig <- ggplot(selected, aes(`CIR: Daily Infections per 100,000`,\n",
    "               `Vaccination coverage (%)`, fill=`Number of Infections`)) +\n",
    "            scale_fill_manual(breaks=rate_labels, values=rate_colors) + \n",
    "            geom_tile() + geom_text(aes(\n",
    "                label=round(`Total number of Infections (per 2000 person-week)`, 2)),\n",
    "                colour='white', size=1.5) + \n",
    "            facet_grid(rows=vars(`Test Strategy`), \n",
    "                             cols=vars(`Vaccination efficacy at preventing transmission`)) +\n",
    "            labs(title=title)\n",
    "    } else if ( rate == 'symptomatic' ) {\n",
    "          selected$`Number of Symptomatic Workers` = cut(selected$`Number of Symptomatic workforce (per 2000 person-week)`, \n",
    "                                      breaks=rate_breaks, right = FALSE,\n",
    "                                     labels=rate_labels)\n",
    "          fig <- ggplot(selected, aes(`CIR: Daily Infections per 100,000`,\n",
    "               `Vaccination coverage (%)`, fill=`Number of Symptomatic Workers`)) +\n",
    "            scale_fill_manual(breaks=rate_labels, values=rate_colors) + \n",
    "            geom_tile() + geom_text(aes(\n",
    "                label=round(`Total number of Infections (per 2000 person-week)`, 2)),\n",
    "                colour='white', size=1.5) + \n",
    "            facet_grid(rows=vars(`Test Strategy`), \n",
    "                             cols=vars(`Vaccination efficacy at preventing transmission`)) +\n",
    "            labs(title=title)\n",
    "    }\n",
    "\n",
    "    print(fig)\n",
    "    dev.off()\n",
    "}\n"
   ]
  },
  {
   "cell_type": "code",
   "execution_count": null,
   "metadata": {
    "kernel": "R"
   },
   "outputs": [],
   "source": [
    "    \n",
    "    for (production in c('small', 'large')) {\n",
    "        for (npi in c(0.6, 1, 1.2)) {\n",
    "            for (scale in c('All', 'Unvaccinated')) {\n",
    "                for (rate in c('workplace', 'total', 'symptomatic')) {\n",
    "                    for (variant in c('original', 'alpha', 'delta')) {\n",
    "                        plot_heatmap(res, production, npi, variant, scale, rate)            \n",
    "                    }\n",
    "                }\n",
    "            }\n",
    "        }\n",
    "    }"
   ]
  },
  {
   "cell_type": "code",
   "execution_count": null,
   "metadata": {
    "kernel": "R"
   },
   "outputs": [],
   "source": [
    "    \n",
    "    for (production in c('small', 'large')) {\n",
    "            for (scale in c('All', 'Unvaccinated')) {\n",
    "                for (rate in c('workplace', 'total', 'symptomatic')) {\n",
    "                    \n",
    "                        plot_heatmap(res, production, 1.2, 'original', scale, rate)            \n",
    "            }\n",
    "        }\n",
    "    }"
   ]
  },
  {
   "cell_type": "code",
   "execution_count": null,
   "metadata": {
    "kernel": "R"
   },
   "outputs": [],
   "source": []
  }
 ],
 "metadata": {
  "kernelspec": {
   "display_name": "SoS",
   "language": "sos",
   "name": "sos"
  },
  "language_info": {
   "codemirror_mode": "sos",
   "file_extension": ".sos",
   "mimetype": "text/x-sos",
   "name": "sos",
   "nbconvert_exporter": "sos_notebook.converter.SoS_Exporter",
   "pygments_lexer": "sos"
  },
  "sos": {
   "kernels": [
    [
     "SoS",
     "sos",
     "",
     ""
    ]
   ],
   "version": "0.22.7"
  }
 },
 "nbformat": 4,
 "nbformat_minor": 4
}
