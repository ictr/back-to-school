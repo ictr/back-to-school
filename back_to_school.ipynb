{
 "cells": [
  {
   "cell_type": "markdown",
   "metadata": {
    "kernel": "SoS"
   },
   "source": [
    "\n",
    "# Mask or no mask: A decision guide for teachers, parents, and students\n",
    "\n",
    "* August, 2021\n",
    "* Institute for Clinical & Translational Research, Baylor College of Medicine"
   ]
  },
  {
   "cell_type": "markdown",
   "metadata": {
    "kernel": "SoS"
   },
   "source": [
    "# Context"
   ]
  },
  {
   "cell_type": "markdown",
   "metadata": {
    "kernel": "SoS"
   },
   "source": [
    "With  increasing incidences of [COVID-19 infections in the Greater Houston Area](https://www.tmc.edu/coronavirus-updates/daily-new-covid-19-positive-cases-for-the-greater-houston-area/) and  students returning to school, informed decisions must be made regarding teacher and student continuous masking recommendations.\n",
    "\n",
    "As of today (August 21),\n",
    "1. An executive order is in place which [prohibits Texas government funded entities from mandating mask wearing on premises](https://gov.texas.gov/news/post/governor-abbott-issues-executive-order-prohibiting-government-entities-from-mandating-masks).\n",
    "2. [Houston ISD](https://www.houstonisd.org/) is one of [a handful of schools in the Houston area](https://www.khou.com/article/news/health/coronavirus/masks-houston-school-districts-covid-coronavirus/285-25154fcd-97ae-4d8b-9444-be77a0b58f89) which does have a mask wearing mandate in place.\n",
    "3. Colleges in the our area have established differing policies. Notably, Rice University has [COVID policies that mandate mask wearing indoors](https://coronavirus.rice.edu/policies). \n",
    "\n",
    "To provide quantitative insight into these mixed stances, we ran a targeted simulation using our [COVID-19 Outbreak Simulator](https://ictr.github.io/covid19-outbreak-simulator/) to compare the number of COVID-cases that develop in schools that mandate or do not mandate mask wearing."
   ]
  },
  {
   "cell_type": "markdown",
   "metadata": {
    "kernel": "SoS"
   },
   "source": [
    "**Disclaimer**: This report was prepared by researchers in the [Institute for Clinical & Translational Research](https://www.bcm.edu/research/research-offices/institute-for-clinical-translational-research), Baylor College of Medicine. It uses a limited model to predict the impact of mask wearing on COVID-19 incidences in public schools in the Greater Houston Area, and does not necessarily reflect the impact of other site specific COVID-prevention policies that may be in place at each of these schools."
   ]
  },
  {
   "cell_type": "markdown",
   "metadata": {
    "kernel": "SoS"
   },
   "source": [
    "# Conclusions"
   ]
  },
  {
   "cell_type": "markdown",
   "metadata": {
    "kernel": "SoS"
   },
   "source": [
    "The delta variant is highly infectious. With the Houston's existing high regional community infection rate we found that:\n",
    "\n",
    "1. Almost all schools will have at least 1 school-acquired infection.\n",
    "2. If masks are worn at all the time, `0.6%` of high school students will become infected at school. This risk is, however, lower than getting infected from the community (`2.5%`). The proportions for school and community-based infections are higher for elementary schools(`1.3%` and `3.3%` respectively) because students are not vaccinated.\n",
    "3. If masks are not worn at all, `8.6%` of high school students will be infected within a month, and one third (`34.4%`) all students in elementary schools will be infected. Again, we are assuming that there will be no post-infection contact tracing and testing will be performed so asymptomatic carriers will continue to attend school and infect others.\n",
    "4. The proportion of students who will be isolated due to the showing of symptoms will be `1.6%` for high school students and `2.5%` for elementary school students if masks are worn. About `5%` of students in high school and `15%` of students in elementary schools will be isolated if masks are not worn.\n",
    "\n",
    "These results reflect our assumptions that\n",
    "\n",
    "1. `60%` of all teachers and high school students are vaccinated. Students in elementary schools are not vaccinated.\n",
    "2. Students in high schools have more physical interactions whereas students in elementary schools mostly interact with their own classmates.\n",
    "\n",
    "Please see the `Methods` section for details."
   ]
  },
  {
   "cell_type": "markdown",
   "metadata": {
    "kernel": "SoS"
   },
   "source": [
    "## Results"
   ]
  },
  {
   "cell_type": "markdown",
   "metadata": {
    "kernel": "SoS"
   },
   "source": [
    "The following table lists \n",
    "\n",
    "1. The percentage of schools that have no infection at all in a month.\n",
    "2. The average proportion of students that will get infected from the community (home). This proportion is impact on risk from the community infection rate, vaccine proportions, and the proportion of students who have been infected and then remain immune to re-infection.\n",
    "3. The average proportion of students who will get infected from school. \n",
    "4. The average proportion of students who will get isolated after showing COVID symptoms, with infections from community or their schools."
   ]
  },
  {
   "cell_type": "code",
   "execution_count": 28,
   "metadata": {
    "jupyter": {
     "source_hidden": true
    },
    "kernel": "SoS",
    "tags": []
   },
   "outputs": [],
   "source": [
    "## This function retrieves results for all contexts as a Python DataFrame.\n",
    "\n",
    "import pickle\n",
    "import os\n",
    "import pandas as pd\n",
    "\n",
    "def get_results(contexts):\n",
    "    all_res = []\n",
    "    for context in contexts:\n",
    "        res_file = path(f'{context[\"name\"]}.pickle')\n",
    "        if not res_file.exists():\n",
    "            print(f'Missing {context[\"name\"]}')\n",
    "            continue\n",
    "        with open(res_file, 'rb') as infile:\n",
    "            loaded = pickle.load(infile)\n",
    "            #if not 'num_replicates' in loaded or loaded[\"num_replicates\"] < context[\"num_replicates\"]:\n",
    "            #    print(f'WRONG {context[\"name\"]}')\n",
    "                #os.remove(res_file)\n",
    "                #continue\n",
    "            res = {\n",
    "                'School': context['school'],\n",
    "                'Mask wearing': context['mask_wearing'],\n",
    "#                 'Vaccination coverage (%)': int(context['vac_coverage'] * 100),\n",
    "                \n",
    "            }\n",
    "            res.update(loaded)\n",
    "            res.pop('num_replicates', None)\n",
    "            all_res.append(res)\n",
    "\n",
    "    all_res = pd.DataFrame(all_res)\n",
    "    return all_res\n",
    "\n",
    "pd.options.display.float_format = '{:,.1f}'.format\n"
   ]
  },
  {
   "cell_type": "code",
   "execution_count": 34,
   "metadata": {
    "jupyter": {
     "source_hidden": true
    },
    "kernel": "SoS",
    "tags": []
   },
   "outputs": [
    {
     "data": {
      "text/html": [
       "<div class=\"sos_hint\">> res: DataFrame of shape (6, 6)</div>"
      ],
      "text/plain": [
       ">>> res:\n"
      ]
     },
     "metadata": {},
     "output_type": "display_data"
    },
    {
     "data": {
      "text/html": [
       "\n",
       "    <div class='dataframe_container' style=\"max-height:400px\">\n",
       "    <input type=\"text\" class='dataframe_input' id=\"search_2pbbz19d\" onkeyup=\"filterDataFrame('2pbbz19d')\" placeholder=\"Search for names..\">\n",
       "    <table border=\"1\" id=\"dataframe_2pbbz19d\" class=\"sos_dataframe dataframe\">\n",
       "  <thead>\n",
       "    <tr style=\"text-align: right;\">\n",
       "      <th> &nbsp; <i class=\"fa fa-sort\" style=\"color:lightgray\" onclick=\"sortDataFrame('2pbbz19d', 0, 'numeric')\"></th>\n",
       "      <th>School &nbsp; <i class=\"fa fa-sort\" style=\"color:lightgray\" onclick=\"sortDataFrame('2pbbz19d', 1, 'alphabetic')\"></th>\n",
       "      <th>Mask wearing &nbsp; <i class=\"fa fa-sort\" style=\"color:lightgray\" onclick=\"sortDataFrame('2pbbz19d', 2, 'alphabetic')\"></th>\n",
       "      <th>Proportion of schools with no infection % &nbsp; <i class=\"fa fa-sort\" style=\"color:lightgray\" onclick=\"sortDataFrame('2pbbz19d', 3, 'numeric')\"></th>\n",
       "      <th>Avg proportion of students infected from community % &nbsp; <i class=\"fa fa-sort\" style=\"color:lightgray\" onclick=\"sortDataFrame('2pbbz19d', 4, 'numeric')\"></th>\n",
       "      <th>Avg proportion of students infected from school % &nbsp; <i class=\"fa fa-sort\" style=\"color:lightgray\" onclick=\"sortDataFrame('2pbbz19d', 5, 'numeric')\"></th>\n",
       "      <th>Avg proportion of students isolated % &nbsp; <i class=\"fa fa-sort\" style=\"color:lightgray\" onclick=\"sortDataFrame('2pbbz19d', 6, 'numeric')\"></th>\n",
       "    </tr>\n",
       "  </thead>\n",
       "  <tbody>\n",
       "    <tr>\n",
       "      <th>0</th>\n",
       "      <td>high</td>\n",
       "      <td>with_mask</td>\n",
       "      <td>2.4</td>\n",
       "      <td>2.5</td>\n",
       "      <td>0.6</td>\n",
       "      <td>1.6</td>\n",
       "    </tr>\n",
       "    <tr>\n",
       "      <th>1</th>\n",
       "      <td>high</td>\n",
       "      <td>partial_mask</td>\n",
       "      <td>0.0</td>\n",
       "      <td>2.5</td>\n",
       "      <td>2.8</td>\n",
       "      <td>2.6</td>\n",
       "    </tr>\n",
       "    <tr>\n",
       "      <th>2</th>\n",
       "      <td>high</td>\n",
       "      <td>no_mask</td>\n",
       "      <td>0.0</td>\n",
       "      <td>2.4</td>\n",
       "      <td>8.6</td>\n",
       "      <td>4.9</td>\n",
       "    </tr>\n",
       "    <tr>\n",
       "      <th>3</th>\n",
       "      <td>elementary</td>\n",
       "      <td>with_mask</td>\n",
       "      <td>1.0</td>\n",
       "      <td>3.3</td>\n",
       "      <td>1.3</td>\n",
       "      <td>2.5</td>\n",
       "    </tr>\n",
       "    <tr>\n",
       "      <th>4</th>\n",
       "      <td>elementary</td>\n",
       "      <td>partial_mask</td>\n",
       "      <td>0.0</td>\n",
       "      <td>3.2</td>\n",
       "      <td>9.2</td>\n",
       "      <td>5.8</td>\n",
       "    </tr>\n",
       "    <tr>\n",
       "      <th>5</th>\n",
       "      <td>elementary</td>\n",
       "      <td>no_mask</td>\n",
       "      <td>0.0</td>\n",
       "      <td>3.0</td>\n",
       "      <td>34.4</td>\n",
       "      <td>14.9</td>\n",
       "    </tr>\n",
       "  </tbody>\n",
       "</table></div>"
      ]
     },
     "metadata": {},
     "output_type": "display_data"
    }
   ],
   "source": [
    "%preview  res \n",
    "\n",
    "res = get_results(all_contexts)\n",
    "\n",
    "with pd.ExcelWriter(path(f'results.xlsx'), engine='xlsxwriter') as writer: \n",
    "    res.to_excel(writer, index=False, sheet_name='All')\n",
    "    \n",
    "    workbook  = writer.book\n",
    "    \n",
    "    fmt_num = workbook.add_format({'num_format': '0.00'})\n",
    "    header_format = workbook.add_format({\n",
    "        'bold': True,\n",
    "        'text_wrap': True})\n",
    "    \n",
    "    worksheet = writer.sheets[\"All\"]\n",
    "    worksheet.set_column('J:P', None, fmt_num)\n",
    "    #worksheet.set_row(0, 0, header_format)"
   ]
  },
  {
   "cell_type": "markdown",
   "metadata": {
    "kernel": "SoS"
   },
   "source": [
    "# Methods\n",
    "\n",
    "We assume that all students and teachers live in the same \"community\" that is subject to a fixed \"community infection rate\", which is the probability that people are infected. People who are infected from the community would go to school, with or without mask, and have the same probability of infecting others. People who show symptoms are isolated for 10 days before they go back to school, at which time they have recovered and are largely immune to reinfection. We **do not yet model other post-infection reactions such as contact tracing and testing**, which are being employed by many schools and universities to prevent the spread of the coronavirus.\n",
    "\n",
    "We assume \n",
    "\n",
    "* **Community infection rate (CIR)**: CIR is the actual community rate of infection and is used to model the probability at which people are infected. The actual number will differ from the Public Health reported confirmed case numbers due to reporting delays and the sufficiency of testing (see https://ourworldindata.org/covid-models for an expanded discussion). As of writing, \n",
    "    * There are around `2000` confirmed cases per day in the Harris County with `4.7 M` people, or\n",
    "    * Around `3000` confirmed cases per day in the Greater Houston Area with a population of about `9` million,\n",
    "    \n",
    "  so the raw CIR is about `400 / million`. Using a popular method to adjust for the under-reporting of actual CIR, namely multiplying the number of confirmed cases by a factor of 4, we use **1600 / million** as the CIR for the Greater Houston Area. Note that the estimates from [The Institute for Health Metrics and Evaluation (IHME) an independent global health research center at the University of Washington](https://covid19.healthdata.org/global?view=cumulative-deaths&tab=trend) is around 2121 per million for the state of Texas.\n",
    " \n",
    "* **Vaccination coverage**: According to government report, 45.7% of people are fully vaccinated in Texas. We assume that adults (teachers) have higher vaccination rates and assume that\n",
    "    * 60% of all students and teachers are vaccinated in high schools and colleges.\n",
    "    * 60% of teachers are vaccinated in elementary schools, but students were not vaccinated.\n",
    "  \n",
    "* **Size of schools**: According to online information, we assume that\n",
    "    * High schools have 800 students with a 15:1 teacher student ratio (50 teachers, 50 staff).\n",
    "    * Elementary schools have 500 students with a 15:1 teacher student ratio (30 teachers, 30 staff).\n",
    "    \n",
    "* **Transmissibility of virus**: The highly contagious delta variant has become the most prevalent version of COVID-19 in the country, and also in the state of Texas. The delta variant has \n",
    "    * A reproduction number of around `6.5` for symptomatic cases (range 5-8)\n",
    "    * A reproduction number of `4.6` for asymptomatic carriers because we assume that asymptomatic carriers are 70% infectious compared to symptomatic carriers.\n",
    "    * An incubation period `4.4`\n",
    "    * `30%` of people will remain asymptomatic after being infected.\n",
    "    \n",
    "* **Infection patterns**:\n",
    "    * We assume that students and teachers will spend half of the \"interacting\" time at home and half of the time at school (8 hours each), so only about half of the infection events will happen at school. \n",
    "    * We assume that students in elementary schools are divided into `25` classes with `20` students each. Because students in elementary schools usually only interact with their classmates and teachers, we assume that each student will interact with the rest of the class (`19` students), `3` teachers, and `5` random students they interact at hall way or cafeterias.\n",
    "    * We assume that students in high schools are well mixed so everyone can infect any other student, teacher, or staff.\n",
    " \n",
    "* **Efficacy of vaccine**: Most Houstonians were vaccinated with the Pfizer vaccine, which is reported to\n",
    "    * Has `42%` to `60%` efficacy for preventing infection\n",
    "    * Reduces viral loads of infected people by around 50%\n",
    "    * Has around `50%` efficacy for preventing secondary infection.\n",
    " \n",
    "* **Duration of simulation**: We simulate the operation of schools for a month (28 days, 20 working days).\n",
    " \n",
    "* **Mask wearing**: We simulate three scenarios,\n",
    "   * no mask\n",
    "   * with mask, which causes 80% reduction in the transmission of the virus\n",
    "   * some mask, which corresponds to the case of no mandated mask wearing, perhaps 50% of people will wear mask and lead to 40% reduction in the transmission of the virus.\n",
    " \n",
    "\n",
    "We output the number of infections and symptomatic cases in both high schools and elementary schools.\n"
   ]
  },
  {
   "cell_type": "code",
   "execution_count": 11,
   "metadata": {
    "jupyter": {
     "source_hidden": true
    },
    "kernel": "SoS",
    "scrolled": true,
    "tags": []
   },
   "outputs": [],
   "source": [
    "import pandas as pd\n",
    "\n",
    "school_spec = {\n",
    "    'high': {'teachers': 'T=100', 'students': 'S=800', 'vac_coverage': 'T=0.6 S=0.6' },\n",
    "    'elementary': {'teachers': 'T=60', \n",
    "                   'students': ' '.join([f'S{i+1}=20' for i in range(25)]),\n",
    "                   'vac_coverage': 'T=0.6 ' + ' '.join([f'S{i+1}=0' for i in range(25)]) }\n",
    "}\n",
    "\n",
    "communities = {\n",
    "    'C1600': dict(community_infection_rate=1600 / 1000000),\n",
    "    # 'D400': dict(community_infection_rate=400 / 1000000),\n",
    "}\n",
    "\n",
    "\n",
    "variants = {\n",
    "    'delta': dict(sym_r0=[5, 8], asym_r0=[5*0.75, 8*0.75], incu_period=4.4, name='B.1.617.2', prop_asym_carriers=0.3),\n",
    "}\n",
    "\n",
    "# 86/76 for alpha; 76/42 for delta; and 75-81% protection against hospitalizations.\n",
    "vaccination_specs = {\n",
    "    'pfizer': dict(\n",
    "            delta=dict(vac_immunity=[0.42, 0.38], vac_infectivity=[0.5, 0.5]),\n",
    "        ),    \n",
    "}\n",
    "\n",
    "distancing_spec = {\n",
    "    'no_mask': 1,\n",
    "    'with_mask': 0.2,\n",
    "    'partial_mask': 0.6\n",
    "}\n",
    "\n",
    "def get_single_context(\n",
    "    school,\n",
    "    distancing,\n",
    "    community,\n",
    "):\n",
    "    variant = 'delta'\n",
    "    vac_name = 'pfizer'\n",
    "    return dict(\n",
    "        name=f'{community}_{school}_{distancing}',\n",
    "        school=school,\n",
    "        mask_wearing=distancing,\n",
    "        #\n",
    "        community_infection_rate=communities[community]['community_infection_rate'],\n",
    "        #\n",
    "        vac_proportion=school_spec[school]['vac_coverage'],\n",
    "        \n",
    "        vac_immunity=' '.join(str(x) for x in vaccination_specs[vac_name][variant]['vac_immunity']),\n",
    "        vac_infectivity=' '.join(str(x) for x in vaccination_specs[vac_name][variant]['vac_infectivity']),\n",
    "                \n",
    "        # constant\n",
    "        pop_size=school_spec[school]['teachers'] + ' ' + school_spec[school]['students'],\n",
    "        prop_asym_carriers=variants[variant][\"prop_asym_carriers\"],\n",
    "        \n",
    "        sym_r0=f'{variants[variant][\"sym_r0\"][0]:.2f} {variants[variant][\"sym_r0\"][1]:.2f}',\n",
    "        asym_r0=f'{variants[variant][\"asym_r0\"][0]:.2f} {variants[variant][\"asym_r0\"][1]:.2f}',\n",
    "        incu_period=variants[variant][\"incu_period\"],        \n",
    "        # use 0.5 to assume that half of the infections will be to\n",
    "        # non-school members\n",
    "        distancing_multiplier=distancing_spec[distancing] * 0.5,\n",
    "        duration=20,\n",
    "        #\n",
    "        # use more replicates for lower community infection rate to save computing time\n",
    "        num_replicates=5000)\n",
    "\n",
    "\n",
    "def unique_contexts(contexts):\n",
    "    names = set()\n",
    "    res = []\n",
    "    for context in contexts:\n",
    "        if not context:\n",
    "            continue\n",
    "        if context['name'] in names:\n",
    "            continue\n",
    "        res.append(context)\n",
    "        names.add(context['name'])\n",
    "    return res\n",
    "\n",
    "\n",
    "def get_contexts(\n",
    "    school_cases=[],    \n",
    "    distancing_cases=[],    \n",
    "    community_cases=[],\n",
    "):\n",
    "    contexts = []\n",
    "    for school in school_cases:\n",
    "        for distancing in distancing_cases:\n",
    "            for community in community_cases:\n",
    "                contexts.append(\n",
    "                                get_single_context(school, distancing, community))\n",
    "    # remove duplicate\n",
    "    return unique_contexts(contexts)\n"
   ]
  },
  {
   "cell_type": "code",
   "execution_count": 14,
   "metadata": {
    "collapsed": true,
    "jupyter": {
     "outputs_hidden": true,
     "source_hidden": true
    },
    "kernel": "SoS",
    "tags": []
   },
   "outputs": [
    {
     "data": {
      "text/html": [
       "<div class=\"sos_hint\">> cases: DataFrame of shape (6, 15)</div>"
      ],
      "text/plain": [
       ">>> cases:\n"
      ]
     },
     "metadata": {},
     "output_type": "display_data"
    },
    {
     "data": {
      "text/html": [
       "\n",
       "    <div class='dataframe_container' style=\"max-height:400px\">\n",
       "    <input type=\"text\" class='dataframe_input' id=\"search_bnexqg8e\" onkeyup=\"filterDataFrame('bnexqg8e')\" placeholder=\"Search for names..\">\n",
       "    <table border=\"1\" id=\"dataframe_bnexqg8e\" class=\"sos_dataframe dataframe\">\n",
       "  <thead>\n",
       "    <tr style=\"text-align: right;\">\n",
       "      <th> &nbsp; <i class=\"fa fa-sort\" style=\"color:lightgray\" onclick=\"sortDataFrame('bnexqg8e', 0, 'numeric')\"></th>\n",
       "      <th>name &nbsp; <i class=\"fa fa-sort\" style=\"color:lightgray\" onclick=\"sortDataFrame('bnexqg8e', 1, 'alphabetic')\"></th>\n",
       "      <th>school &nbsp; <i class=\"fa fa-sort\" style=\"color:lightgray\" onclick=\"sortDataFrame('bnexqg8e', 2, 'alphabetic')\"></th>\n",
       "      <th>mask_wearing &nbsp; <i class=\"fa fa-sort\" style=\"color:lightgray\" onclick=\"sortDataFrame('bnexqg8e', 3, 'alphabetic')\"></th>\n",
       "      <th>community_infection_rate &nbsp; <i class=\"fa fa-sort\" style=\"color:lightgray\" onclick=\"sortDataFrame('bnexqg8e', 4, 'numeric')\"></th>\n",
       "      <th>vac_proportion &nbsp; <i class=\"fa fa-sort\" style=\"color:lightgray\" onclick=\"sortDataFrame('bnexqg8e', 5, 'alphabetic')\"></th>\n",
       "      <th>vac_immunity &nbsp; <i class=\"fa fa-sort\" style=\"color:lightgray\" onclick=\"sortDataFrame('bnexqg8e', 6, 'alphabetic')\"></th>\n",
       "      <th>vac_infectivity &nbsp; <i class=\"fa fa-sort\" style=\"color:lightgray\" onclick=\"sortDataFrame('bnexqg8e', 7, 'alphabetic')\"></th>\n",
       "      <th>pop_size &nbsp; <i class=\"fa fa-sort\" style=\"color:lightgray\" onclick=\"sortDataFrame('bnexqg8e', 8, 'alphabetic')\"></th>\n",
       "      <th>prop_asym_carriers &nbsp; <i class=\"fa fa-sort\" style=\"color:lightgray\" onclick=\"sortDataFrame('bnexqg8e', 9, 'numeric')\"></th>\n",
       "      <th>sym_r0 &nbsp; <i class=\"fa fa-sort\" style=\"color:lightgray\" onclick=\"sortDataFrame('bnexqg8e', 10, 'alphabetic')\"></th>\n",
       "      <th>asym_r0 &nbsp; <i class=\"fa fa-sort\" style=\"color:lightgray\" onclick=\"sortDataFrame('bnexqg8e', 11, 'alphabetic')\"></th>\n",
       "      <th>incu_period &nbsp; <i class=\"fa fa-sort\" style=\"color:lightgray\" onclick=\"sortDataFrame('bnexqg8e', 12, 'numeric')\"></th>\n",
       "      <th>distancing_multiplier &nbsp; <i class=\"fa fa-sort\" style=\"color:lightgray\" onclick=\"sortDataFrame('bnexqg8e', 13, 'numeric')\"></th>\n",
       "      <th>duration &nbsp; <i class=\"fa fa-sort\" style=\"color:lightgray\" onclick=\"sortDataFrame('bnexqg8e', 14, 'numeric')\"></th>\n",
       "      <th>num_replicates &nbsp; <i class=\"fa fa-sort\" style=\"color:lightgray\" onclick=\"sortDataFrame('bnexqg8e', 15, 'numeric')\"></th>\n",
       "    </tr>\n",
       "  </thead>\n",
       "  <tbody>\n",
       "    <tr>\n",
       "      <th>0</th>\n",
       "      <td>C1600_high_with_mask</td>\n",
       "      <td>high</td>\n",
       "      <td>with_mask</td>\n",
       "      <td>0.0016</td>\n",
       "      <td>T=0.6 S=0.6</td>\n",
       "      <td>0.42 0.38</td>\n",
       "      <td>0.5 0.5</td>\n",
       "      <td>T=100 S=800</td>\n",
       "      <td>0.3</td>\n",
       "      <td>5.00 8.00</td>\n",
       "      <td>3.75 6.00</td>\n",
       "      <td>4.4</td>\n",
       "      <td>0.1</td>\n",
       "      <td>20</td>\n",
       "      <td>5000</td>\n",
       "    </tr>\n",
       "    <tr>\n",
       "      <th>1</th>\n",
       "      <td>C1600_high_partial_mask</td>\n",
       "      <td>high</td>\n",
       "      <td>partial_mask</td>\n",
       "      <td>0.0016</td>\n",
       "      <td>T=0.6 S=0.6</td>\n",
       "      <td>0.42 0.38</td>\n",
       "      <td>0.5 0.5</td>\n",
       "      <td>T=100 S=800</td>\n",
       "      <td>0.3</td>\n",
       "      <td>5.00 8.00</td>\n",
       "      <td>3.75 6.00</td>\n",
       "      <td>4.4</td>\n",
       "      <td>0.3</td>\n",
       "      <td>20</td>\n",
       "      <td>5000</td>\n",
       "    </tr>\n",
       "    <tr>\n",
       "      <th>2</th>\n",
       "      <td>C1600_high_no_mask</td>\n",
       "      <td>high</td>\n",
       "      <td>no_mask</td>\n",
       "      <td>0.0016</td>\n",
       "      <td>T=0.6 S=0.6</td>\n",
       "      <td>0.42 0.38</td>\n",
       "      <td>0.5 0.5</td>\n",
       "      <td>T=100 S=800</td>\n",
       "      <td>0.3</td>\n",
       "      <td>5.00 8.00</td>\n",
       "      <td>3.75 6.00</td>\n",
       "      <td>4.4</td>\n",
       "      <td>0.5</td>\n",
       "      <td>20</td>\n",
       "      <td>5000</td>\n",
       "    </tr>\n",
       "    <tr>\n",
       "      <th>3</th>\n",
       "      <td>C1600_elementary_with_mask</td>\n",
       "      <td>elementary</td>\n",
       "      <td>with_mask</td>\n",
       "      <td>0.0016</td>\n",
       "      <td>T=0.6 S1=0 S2=0 S3=0 S4=0 S5=0 S6=0 S7=0 S8=0 S9=0 S10=0 S11=0 S12=0 S13=0 S14=0 S15=0 S16=0 S17=0 S18=0 S19=0 S20=0 S21=0 S22=0 S23=0 S24=0 S25=0</td>\n",
       "      <td>0.42 0.38</td>\n",
       "      <td>0.5 0.5</td>\n",
       "      <td>T=60 S1=20 S2=20 S3=20 S4=20 S5=20 S6=20 S7=20 S8=20 S9=20 S10=20 S11=20 S12=20 S13=20 S14=20 S15=20 S16=20 S17=20 S18=20 S19=20 S20=20 S21=20 S22=20 S23=20 S24=20 S25=20</td>\n",
       "      <td>0.3</td>\n",
       "      <td>5.00 8.00</td>\n",
       "      <td>3.75 6.00</td>\n",
       "      <td>4.4</td>\n",
       "      <td>0.1</td>\n",
       "      <td>20</td>\n",
       "      <td>5000</td>\n",
       "    </tr>\n",
       "    <tr>\n",
       "      <th>4</th>\n",
       "      <td>C1600_elementary_partial_mask</td>\n",
       "      <td>elementary</td>\n",
       "      <td>partial_mask</td>\n",
       "      <td>0.0016</td>\n",
       "      <td>T=0.6 S1=0 S2=0 S3=0 S4=0 S5=0 S6=0 S7=0 S8=0 S9=0 S10=0 S11=0 S12=0 S13=0 S14=0 S15=0 S16=0 S17=0 S18=0 S19=0 S20=0 S21=0 S22=0 S23=0 S24=0 S25=0</td>\n",
       "      <td>0.42 0.38</td>\n",
       "      <td>0.5 0.5</td>\n",
       "      <td>T=60 S1=20 S2=20 S3=20 S4=20 S5=20 S6=20 S7=20 S8=20 S9=20 S10=20 S11=20 S12=20 S13=20 S14=20 S15=20 S16=20 S17=20 S18=20 S19=20 S20=20 S21=20 S22=20 S23=20 S24=20 S25=20</td>\n",
       "      <td>0.3</td>\n",
       "      <td>5.00 8.00</td>\n",
       "      <td>3.75 6.00</td>\n",
       "      <td>4.4</td>\n",
       "      <td>0.3</td>\n",
       "      <td>20</td>\n",
       "      <td>5000</td>\n",
       "    </tr>\n",
       "    <tr>\n",
       "      <th>5</th>\n",
       "      <td>C1600_elementary_no_mask</td>\n",
       "      <td>elementary</td>\n",
       "      <td>no_mask</td>\n",
       "      <td>0.0016</td>\n",
       "      <td>T=0.6 S1=0 S2=0 S3=0 S4=0 S5=0 S6=0 S7=0 S8=0 S9=0 S10=0 S11=0 S12=0 S13=0 S14=0 S15=0 S16=0 S17=0 S18=0 S19=0 S20=0 S21=0 S22=0 S23=0 S24=0 S25=0</td>\n",
       "      <td>0.42 0.38</td>\n",
       "      <td>0.5 0.5</td>\n",
       "      <td>T=60 S1=20 S2=20 S3=20 S4=20 S5=20 S6=20 S7=20 S8=20 S9=20 S10=20 S11=20 S12=20 S13=20 S14=20 S15=20 S16=20 S17=20 S18=20 S19=20 S20=20 S21=20 S22=20 S23=20 S24=20 S25=20</td>\n",
       "      <td>0.3</td>\n",
       "      <td>5.00 8.00</td>\n",
       "      <td>3.75 6.00</td>\n",
       "      <td>4.4</td>\n",
       "      <td>0.5</td>\n",
       "      <td>20</td>\n",
       "      <td>5000</td>\n",
       "    </tr>\n",
       "  </tbody>\n",
       "</table></div>"
      ]
     },
     "metadata": {},
     "output_type": "display_data"
    }
   ],
   "source": [
    "%preview cases -l 400\n",
    "\n",
    "high_contexts = get_contexts(\n",
    "    school_cases=['high'],\n",
    "    community_cases=[\n",
    "        'C1600',\n",
    "    ],\n",
    "    distancing_cases=['with_mask', 'partial_mask', 'no_mask'],\n",
    ")\n",
    "\n",
    "elementary_contexts = get_contexts(\n",
    "    school_cases=['elementary'],\n",
    "    community_cases=[\n",
    "        'C1600',\n",
    "    ],\n",
    "    distancing_cases=['with_mask', 'partial_mask', 'no_mask'],\n",
    ")\n",
    "\n",
    "all_contexts = get_contexts(\n",
    "    school_cases=['high', 'elementary'],\n",
    "    community_cases=[\n",
    "        'C1600',\n",
    "    ],\n",
    "    distancing_cases=['with_mask', 'partial_mask', 'no_mask'],\n",
    ")\n",
    "\n",
    "\n",
    "cases = pd.DataFrame(all_contexts)"
   ]
  },
  {
   "cell_type": "code",
   "execution_count": 6,
   "metadata": {
    "collapsed": true,
    "jupyter": {
     "outputs_hidden": true,
     "source_hidden": true
    },
    "kernel": "SoS",
    "tags": []
   },
   "outputs": [
    {
     "data": {
      "text/html": [
       "\n",
       "<table id=\"task_localhost_t74739da57a625385_451d8545-2315-488a-890b-baac6c68d63d\" class=\"task_table completed\">\n",
       "<tr>\n",
       "  <td class=\"task_icon\">\n",
       "    <i id=\"task_status_icon_localhost_t74739da57a625385_451d8545-2315-488a-890b-baac6c68d63d\" class=\"fa fa-2x fa-fw fa-check-square-o\"\n",
       "    null null null></i>\n",
       "  </td>\n",
       "  <td class=\"task_id\">\n",
       "    <span><pre><i class=\"fa fa-fw fa-sitemap\"></i></pre><pre>t74739da57a625385<div class=\"task_id_actions\"><i class=\"fa fa-fw fa-refresh\" onclick=\"task_action({action:'status', task:'t74739da57a625385', queue: 'localhost'})\"></i><i class=\"fa fa-fw fa-play\" onclick=\"task_action({action:'execute', task:'t74739da57a625385', queue: 'localhost'})\"></i><i class=\"fa fa-fw fa-stop\"\" onclick=\"task_action({action:'kill', task:'t74739da57a625385', queue: 'localhost'})\"></i><i class=\"fa fa-fw fa-trash\"\" onclick=\"task_action({action:'purge', task:'t74739da57a625385', queue: 'localhost'})\"></i></div></pre></span>\n",
       "  </td>\n",
       "  <td class=\"task_tags\">\n",
       "    <span id=\"status_tags_localhost_t74739da57a625385_451d8545-2315-488a-890b-baac6c68d63d\"><pre><i class=\"fa fa-fw fa-info-circle\"></i></pre><pre class=\"task_tags task_tag_C1600_high_with_mask\">C1600_high_with_mask<div class=\"task_tag_actions\"><i class=\"fa fa-fw fa-refresh\" onclick=\"task_action({action:'status', tag:'C1600_high_with_mask', queue: 'localhost'})\"></i><i class=\"fa fa-fw fa-stop\"\" onclick=\"task_action({action:'kill', tag:'C1600_high_with_mask', queue: 'localhost'})\"></i><i class=\"fa fa-fw fa-trash\"\" onclick=\"task_action({action:'purge', tag:'C1600_high_with_mask', queue: 'localhost'})\"></i></div></pre><pre class=\"task_tags task_tag_back-to-school\">back-to-school<div class=\"task_tag_actions\"><i class=\"fa fa-fw fa-refresh\" onclick=\"task_action({action:'status', tag:'back-to-school', queue: 'localhost'})\"></i><i class=\"fa fa-fw fa-stop\"\" onclick=\"task_action({action:'kill', tag:'back-to-school', queue: 'localhost'})\"></i><i class=\"fa fa-fw fa-trash\"\" onclick=\"task_action({action:'purge', tag:'back-to-school', queue: 'localhost'})\"></i></div></pre><pre class=\"task_tags task_tag_cell_451d8545\">cell_451d8545<div class=\"task_tag_actions\"><i class=\"fa fa-fw fa-refresh\" onclick=\"task_action({action:'status', tag:'cell_451d8545', queue: 'localhost'})\"></i><i class=\"fa fa-fw fa-stop\"\" onclick=\"task_action({action:'kill', tag:'cell_451d8545', queue: 'localhost'})\"></i><i class=\"fa fa-fw fa-trash\"\" onclick=\"task_action({action:'purge', tag:'cell_451d8545', queue: 'localhost'})\"></i></div></pre><pre class=\"task_tags task_tag_d1a44dae3dd21962\">d1a44dae3dd21962<div class=\"task_tag_actions\"><i class=\"fa fa-fw fa-refresh\" onclick=\"task_action({action:'status', tag:'d1a44dae3dd21962', queue: 'localhost'})\"></i><i class=\"fa fa-fw fa-stop\"\" onclick=\"task_action({action:'kill', tag:'d1a44dae3dd21962', queue: 'localhost'})\"></i><i class=\"fa fa-fw fa-trash\"\" onclick=\"task_action({action:'purge', tag:'d1a44dae3dd21962', queue: 'localhost'})\"></i></div></pre></span>\n",
       "  </td>\n",
       "  <td class=\"task_timer\">\n",
       "    <pre><i class=\"fa fa-fw fa-clock-o\"></i><time id=\"status_duration_localhost_t74739da57a625385_451d8545-2315-488a-890b-baac6c68d63d\" class=\"completed\" datetime=\"1629748832266.457\">Ran for 1 min 35 sec</time></pre>\n",
       "  </td>\n",
       "  <td class=\"task_status\">\n",
       "    <pre><i class=\"fa fa-fw fa-tasks\"></i><span id=\"status_text_localhost_t74739da57a625385_451d8545-2315-488a-890b-baac6c68d63d\">completed</span></pre>\n",
       "  </td>\n",
       "</tr>\n",
       "</table>\n"
      ]
     },
     "metadata": {},
     "output_type": "display_data"
    },
    {
     "data": {
      "text/html": [
       "\n",
       "<table id=\"task_localhost_t094be2884e7b710a_451d8545-2315-488a-890b-baac6c68d63d\" class=\"task_table completed\">\n",
       "<tr>\n",
       "  <td class=\"task_icon\">\n",
       "    <i id=\"task_status_icon_localhost_t094be2884e7b710a_451d8545-2315-488a-890b-baac6c68d63d\" class=\"fa fa-2x fa-fw fa-check-square-o\"\n",
       "    null null null></i>\n",
       "  </td>\n",
       "  <td class=\"task_id\">\n",
       "    <span><pre><i class=\"fa fa-fw fa-sitemap\"></i></pre><pre>t094be2884e7b710a<div class=\"task_id_actions\"><i class=\"fa fa-fw fa-refresh\" onclick=\"task_action({action:'status', task:'t094be2884e7b710a', queue: 'localhost'})\"></i><i class=\"fa fa-fw fa-play\" onclick=\"task_action({action:'execute', task:'t094be2884e7b710a', queue: 'localhost'})\"></i><i class=\"fa fa-fw fa-stop\"\" onclick=\"task_action({action:'kill', task:'t094be2884e7b710a', queue: 'localhost'})\"></i><i class=\"fa fa-fw fa-trash\"\" onclick=\"task_action({action:'purge', task:'t094be2884e7b710a', queue: 'localhost'})\"></i></div></pre></span>\n",
       "  </td>\n",
       "  <td class=\"task_tags\">\n",
       "    <span id=\"status_tags_localhost_t094be2884e7b710a_451d8545-2315-488a-890b-baac6c68d63d\"><pre><i class=\"fa fa-fw fa-info-circle\"></i></pre><pre class=\"task_tags task_tag_C1600_high_no_mask\">C1600_high_no_mask<div class=\"task_tag_actions\"><i class=\"fa fa-fw fa-refresh\" onclick=\"task_action({action:'status', tag:'C1600_high_no_mask', queue: 'localhost'})\"></i><i class=\"fa fa-fw fa-stop\"\" onclick=\"task_action({action:'kill', tag:'C1600_high_no_mask', queue: 'localhost'})\"></i><i class=\"fa fa-fw fa-trash\"\" onclick=\"task_action({action:'purge', tag:'C1600_high_no_mask', queue: 'localhost'})\"></i></div></pre><pre class=\"task_tags task_tag_back-to-school\">back-to-school<div class=\"task_tag_actions\"><i class=\"fa fa-fw fa-refresh\" onclick=\"task_action({action:'status', tag:'back-to-school', queue: 'localhost'})\"></i><i class=\"fa fa-fw fa-stop\"\" onclick=\"task_action({action:'kill', tag:'back-to-school', queue: 'localhost'})\"></i><i class=\"fa fa-fw fa-trash\"\" onclick=\"task_action({action:'purge', tag:'back-to-school', queue: 'localhost'})\"></i></div></pre><pre class=\"task_tags task_tag_cell_451d8545\">cell_451d8545<div class=\"task_tag_actions\"><i class=\"fa fa-fw fa-refresh\" onclick=\"task_action({action:'status', tag:'cell_451d8545', queue: 'localhost'})\"></i><i class=\"fa fa-fw fa-stop\"\" onclick=\"task_action({action:'kill', tag:'cell_451d8545', queue: 'localhost'})\"></i><i class=\"fa fa-fw fa-trash\"\" onclick=\"task_action({action:'purge', tag:'cell_451d8545', queue: 'localhost'})\"></i></div></pre><pre class=\"task_tags task_tag_d1a44dae3dd21962\">d1a44dae3dd21962<div class=\"task_tag_actions\"><i class=\"fa fa-fw fa-refresh\" onclick=\"task_action({action:'status', tag:'d1a44dae3dd21962', queue: 'localhost'})\"></i><i class=\"fa fa-fw fa-stop\"\" onclick=\"task_action({action:'kill', tag:'d1a44dae3dd21962', queue: 'localhost'})\"></i><i class=\"fa fa-fw fa-trash\"\" onclick=\"task_action({action:'purge', tag:'d1a44dae3dd21962', queue: 'localhost'})\"></i></div></pre></span>\n",
       "  </td>\n",
       "  <td class=\"task_timer\">\n",
       "    <pre><i class=\"fa fa-fw fa-clock-o\"></i><time id=\"status_duration_localhost_t094be2884e7b710a_451d8545-2315-488a-890b-baac6c68d63d\" class=\"completed\" datetime=\"1629748926303.9438\">Ran for 2 min 27 sec</time></pre>\n",
       "  </td>\n",
       "  <td class=\"task_status\">\n",
       "    <pre><i class=\"fa fa-fw fa-tasks\"></i><span id=\"status_text_localhost_t094be2884e7b710a_451d8545-2315-488a-890b-baac6c68d63d\">completed</span></pre>\n",
       "  </td>\n",
       "</tr>\n",
       "</table>\n"
      ]
     },
     "metadata": {},
     "output_type": "display_data"
    },
    {
     "data": {
      "text/html": [
       "\n",
       "<table id=\"task_localhost_tda2edff8e89f6666_451d8545-2315-488a-890b-baac6c68d63d\" class=\"task_table completed\">\n",
       "<tr>\n",
       "  <td class=\"task_icon\">\n",
       "    <i id=\"task_status_icon_localhost_tda2edff8e89f6666_451d8545-2315-488a-890b-baac6c68d63d\" class=\"fa fa-2x fa-fw fa-check-square-o\"\n",
       "    null null null></i>\n",
       "  </td>\n",
       "  <td class=\"task_id\">\n",
       "    <span><pre><i class=\"fa fa-fw fa-sitemap\"></i></pre><pre>tda2edff8e89f6666<div class=\"task_id_actions\"><i class=\"fa fa-fw fa-refresh\" onclick=\"task_action({action:'status', task:'tda2edff8e89f6666', queue: 'localhost'})\"></i><i class=\"fa fa-fw fa-play\" onclick=\"task_action({action:'execute', task:'tda2edff8e89f6666', queue: 'localhost'})\"></i><i class=\"fa fa-fw fa-stop\"\" onclick=\"task_action({action:'kill', task:'tda2edff8e89f6666', queue: 'localhost'})\"></i><i class=\"fa fa-fw fa-trash\"\" onclick=\"task_action({action:'purge', task:'tda2edff8e89f6666', queue: 'localhost'})\"></i></div></pre></span>\n",
       "  </td>\n",
       "  <td class=\"task_tags\">\n",
       "    <span id=\"status_tags_localhost_tda2edff8e89f6666_451d8545-2315-488a-890b-baac6c68d63d\"><pre><i class=\"fa fa-fw fa-info-circle\"></i></pre><pre class=\"task_tags task_tag_C1600_high_partial_mask\">C1600_high_partial_mask<div class=\"task_tag_actions\"><i class=\"fa fa-fw fa-refresh\" onclick=\"task_action({action:'status', tag:'C1600_high_partial_mask', queue: 'localhost'})\"></i><i class=\"fa fa-fw fa-stop\"\" onclick=\"task_action({action:'kill', tag:'C1600_high_partial_mask', queue: 'localhost'})\"></i><i class=\"fa fa-fw fa-trash\"\" onclick=\"task_action({action:'purge', tag:'C1600_high_partial_mask', queue: 'localhost'})\"></i></div></pre><pre class=\"task_tags task_tag_back-to-school\">back-to-school<div class=\"task_tag_actions\"><i class=\"fa fa-fw fa-refresh\" onclick=\"task_action({action:'status', tag:'back-to-school', queue: 'localhost'})\"></i><i class=\"fa fa-fw fa-stop\"\" onclick=\"task_action({action:'kill', tag:'back-to-school', queue: 'localhost'})\"></i><i class=\"fa fa-fw fa-trash\"\" onclick=\"task_action({action:'purge', tag:'back-to-school', queue: 'localhost'})\"></i></div></pre><pre class=\"task_tags task_tag_cell_451d8545\">cell_451d8545<div class=\"task_tag_actions\"><i class=\"fa fa-fw fa-refresh\" onclick=\"task_action({action:'status', tag:'cell_451d8545', queue: 'localhost'})\"></i><i class=\"fa fa-fw fa-stop\"\" onclick=\"task_action({action:'kill', tag:'cell_451d8545', queue: 'localhost'})\"></i><i class=\"fa fa-fw fa-trash\"\" onclick=\"task_action({action:'purge', tag:'cell_451d8545', queue: 'localhost'})\"></i></div></pre><pre class=\"task_tags task_tag_d1a44dae3dd21962\">d1a44dae3dd21962<div class=\"task_tag_actions\"><i class=\"fa fa-fw fa-refresh\" onclick=\"task_action({action:'status', tag:'d1a44dae3dd21962', queue: 'localhost'})\"></i><i class=\"fa fa-fw fa-stop\"\" onclick=\"task_action({action:'kill', tag:'d1a44dae3dd21962', queue: 'localhost'})\"></i><i class=\"fa fa-fw fa-trash\"\" onclick=\"task_action({action:'purge', tag:'d1a44dae3dd21962', queue: 'localhost'})\"></i></div></pre></span>\n",
       "  </td>\n",
       "  <td class=\"task_timer\">\n",
       "    <pre><i class=\"fa fa-fw fa-clock-o\"></i><time id=\"status_duration_localhost_tda2edff8e89f6666_451d8545-2315-488a-890b-baac6c68d63d\" class=\"completed\" datetime=\"1629748832275.828\">Ran for 2 min 2 sec</time></pre>\n",
       "  </td>\n",
       "  <td class=\"task_status\">\n",
       "    <pre><i class=\"fa fa-fw fa-tasks\"></i><span id=\"status_text_localhost_tda2edff8e89f6666_451d8545-2315-488a-890b-baac6c68d63d\">completed</span></pre>\n",
       "  </td>\n",
       "</tr>\n",
       "</table>\n"
      ]
     },
     "metadata": {},
     "output_type": "display_data"
    }
   ],
   "source": [
    "input: for_each=high_contexts\n",
    "\n",
    "task: queue='localhost', cores=4, walltime='1h', mem='4G', tags=name, workdir='.', trunk_size=1\n",
    "\n",
    "sh: expand=True\n",
    "  #rm -f {name}.log.lock\n",
    "  outbreak_simulator --popsize {pop_size} \\\n",
    "      --stop-if 't>{duration}' -j 4 \\\n",
    "      --track-events INFECTION WARNING PLUGIN SHOW_SYMPTOM QUARANTINE \\\n",
    "      --repeat {num_replicates} --resume \\\n",
    "      --symptomatic-r0 {sym_r0} T={distancing_multiplier} S={distancing_multiplier} \\\n",
    "      --asymptomatic-r0 {asym_r0} T={distancing_multiplier} S={distancing_multiplier} \\\n",
    "      --incubation-period {incu_period} \\\n",
    "      --prop-asym-carriers {prop_asym_carriers} \\\n",
    "      --handle-symptomatic 'quarantine?duration=10&infected=true' \\\n",
    "      --logfile {name}.log \\\n",
    "      --plugin vaccinate \\\n",
    "          --start 0 --proportion {vac_proportion} --immunity {vac_immunity} \\\n",
    "          --infectivity {vac_infectivity} \\\n",
    "      --plugin community_infection --start 0 --interval 1 --probability {community_infection_rate} "
   ]
  },
  {
   "cell_type": "code",
   "execution_count": 25,
   "metadata": {
    "collapsed": true,
    "jupyter": {
     "outputs_hidden": true,
     "source_hidden": true
    },
    "kernel": "SoS"
   },
   "outputs": [
    {
     "data": {
      "text/html": [
       "\n",
       "<table id=\"task_localhost_tbff1e00a9161b37b_4ff5c855-cab1-42d5-8bb3-2582c776b254\" class=\"task_table completed\">\n",
       "<tr>\n",
       "  <td class=\"task_icon\">\n",
       "    <i id=\"task_status_icon_localhost_tbff1e00a9161b37b_4ff5c855-cab1-42d5-8bb3-2582c776b254\" class=\"fa fa-2x fa-fw fa-check-square-o\"\n",
       "    null null null></i>\n",
       "  </td>\n",
       "  <td class=\"task_id\">\n",
       "    <span><pre><i class=\"fa fa-fw fa-sitemap\"></i></pre><pre>tbff1e00a9161b37b<div class=\"task_id_actions\"><i class=\"fa fa-fw fa-refresh\" onclick=\"task_action({action:'status', task:'tbff1e00a9161b37b', queue: 'localhost'})\"></i><i class=\"fa fa-fw fa-play\" onclick=\"task_action({action:'execute', task:'tbff1e00a9161b37b', queue: 'localhost'})\"></i><i class=\"fa fa-fw fa-stop\"\" onclick=\"task_action({action:'kill', task:'tbff1e00a9161b37b', queue: 'localhost'})\"></i><i class=\"fa fa-fw fa-trash\"\" onclick=\"task_action({action:'purge', task:'tbff1e00a9161b37b', queue: 'localhost'})\"></i></div></pre></span>\n",
       "  </td>\n",
       "  <td class=\"task_tags\">\n",
       "    <span id=\"status_tags_localhost_tbff1e00a9161b37b_4ff5c855-cab1-42d5-8bb3-2582c776b254\"><pre><i class=\"fa fa-fw fa-info-circle\"></i></pre><pre class=\"task_tags task_tag_82ee0c612ac64867\">82ee0c612ac64867<div class=\"task_tag_actions\"><i class=\"fa fa-fw fa-refresh\" onclick=\"task_action({action:'status', tag:'82ee0c612ac64867', queue: 'localhost'})\"></i><i class=\"fa fa-fw fa-stop\"\" onclick=\"task_action({action:'kill', tag:'82ee0c612ac64867', queue: 'localhost'})\"></i><i class=\"fa fa-fw fa-trash\"\" onclick=\"task_action({action:'purge', tag:'82ee0c612ac64867', queue: 'localhost'})\"></i></div></pre><pre class=\"task_tags task_tag_C1600_elementary_partial_mask\">C1600_elementary_partial_mask<div class=\"task_tag_actions\"><i class=\"fa fa-fw fa-refresh\" onclick=\"task_action({action:'status', tag:'C1600_elementary_partial_mask', queue: 'localhost'})\"></i><i class=\"fa fa-fw fa-stop\"\" onclick=\"task_action({action:'kill', tag:'C1600_elementary_partial_mask', queue: 'localhost'})\"></i><i class=\"fa fa-fw fa-trash\"\" onclick=\"task_action({action:'purge', tag:'C1600_elementary_partial_mask', queue: 'localhost'})\"></i></div></pre><pre class=\"task_tags task_tag_back-to-school\">back-to-school<div class=\"task_tag_actions\"><i class=\"fa fa-fw fa-refresh\" onclick=\"task_action({action:'status', tag:'back-to-school', queue: 'localhost'})\"></i><i class=\"fa fa-fw fa-stop\"\" onclick=\"task_action({action:'kill', tag:'back-to-school', queue: 'localhost'})\"></i><i class=\"fa fa-fw fa-trash\"\" onclick=\"task_action({action:'purge', tag:'back-to-school', queue: 'localhost'})\"></i></div></pre><pre class=\"task_tags task_tag_cell_4ff5c855\">cell_4ff5c855<div class=\"task_tag_actions\"><i class=\"fa fa-fw fa-refresh\" onclick=\"task_action({action:'status', tag:'cell_4ff5c855', queue: 'localhost'})\"></i><i class=\"fa fa-fw fa-stop\"\" onclick=\"task_action({action:'kill', tag:'cell_4ff5c855', queue: 'localhost'})\"></i><i class=\"fa fa-fw fa-trash\"\" onclick=\"task_action({action:'purge', tag:'cell_4ff5c855', queue: 'localhost'})\"></i></div></pre></span>\n",
       "  </td>\n",
       "  <td class=\"task_timer\">\n",
       "    <pre><i class=\"fa fa-fw fa-clock-o\"></i><time id=\"status_duration_localhost_tbff1e00a9161b37b_4ff5c855-cab1-42d5-8bb3-2582c776b254\" class=\"completed\" datetime=\"1629752730208.225\">Ran for 6 min 11 sec</time></pre>\n",
       "  </td>\n",
       "  <td class=\"task_status\">\n",
       "    <pre><i class=\"fa fa-fw fa-tasks\"></i><span id=\"status_text_localhost_tbff1e00a9161b37b_4ff5c855-cab1-42d5-8bb3-2582c776b254\">completed</span></pre>\n",
       "  </td>\n",
       "</tr>\n",
       "</table>\n"
      ]
     },
     "metadata": {},
     "output_type": "display_data"
    },
    {
     "data": {
      "text/html": [
       "\n",
       "<table id=\"task_localhost_t82428d5d83fe961e_4ff5c855-cab1-42d5-8bb3-2582c776b254\" class=\"task_table completed\">\n",
       "<tr>\n",
       "  <td class=\"task_icon\">\n",
       "    <i id=\"task_status_icon_localhost_t82428d5d83fe961e_4ff5c855-cab1-42d5-8bb3-2582c776b254\" class=\"fa fa-2x fa-fw fa-check-square-o\"\n",
       "    null null null></i>\n",
       "  </td>\n",
       "  <td class=\"task_id\">\n",
       "    <span><pre><i class=\"fa fa-fw fa-sitemap\"></i></pre><pre>t82428d5d83fe961e<div class=\"task_id_actions\"><i class=\"fa fa-fw fa-refresh\" onclick=\"task_action({action:'status', task:'t82428d5d83fe961e', queue: 'localhost'})\"></i><i class=\"fa fa-fw fa-play\" onclick=\"task_action({action:'execute', task:'t82428d5d83fe961e', queue: 'localhost'})\"></i><i class=\"fa fa-fw fa-stop\"\" onclick=\"task_action({action:'kill', task:'t82428d5d83fe961e', queue: 'localhost'})\"></i><i class=\"fa fa-fw fa-trash\"\" onclick=\"task_action({action:'purge', task:'t82428d5d83fe961e', queue: 'localhost'})\"></i></div></pre></span>\n",
       "  </td>\n",
       "  <td class=\"task_tags\">\n",
       "    <span id=\"status_tags_localhost_t82428d5d83fe961e_4ff5c855-cab1-42d5-8bb3-2582c776b254\"><pre><i class=\"fa fa-fw fa-info-circle\"></i></pre><pre class=\"task_tags task_tag_82ee0c612ac64867\">82ee0c612ac64867<div class=\"task_tag_actions\"><i class=\"fa fa-fw fa-refresh\" onclick=\"task_action({action:'status', tag:'82ee0c612ac64867', queue: 'localhost'})\"></i><i class=\"fa fa-fw fa-stop\"\" onclick=\"task_action({action:'kill', tag:'82ee0c612ac64867', queue: 'localhost'})\"></i><i class=\"fa fa-fw fa-trash\"\" onclick=\"task_action({action:'purge', tag:'82ee0c612ac64867', queue: 'localhost'})\"></i></div></pre><pre class=\"task_tags task_tag_C1600_elementary_with_mask\">C1600_elementary_with_mask<div class=\"task_tag_actions\"><i class=\"fa fa-fw fa-refresh\" onclick=\"task_action({action:'status', tag:'C1600_elementary_with_mask', queue: 'localhost'})\"></i><i class=\"fa fa-fw fa-stop\"\" onclick=\"task_action({action:'kill', tag:'C1600_elementary_with_mask', queue: 'localhost'})\"></i><i class=\"fa fa-fw fa-trash\"\" onclick=\"task_action({action:'purge', tag:'C1600_elementary_with_mask', queue: 'localhost'})\"></i></div></pre><pre class=\"task_tags task_tag_back-to-school\">back-to-school<div class=\"task_tag_actions\"><i class=\"fa fa-fw fa-refresh\" onclick=\"task_action({action:'status', tag:'back-to-school', queue: 'localhost'})\"></i><i class=\"fa fa-fw fa-stop\"\" onclick=\"task_action({action:'kill', tag:'back-to-school', queue: 'localhost'})\"></i><i class=\"fa fa-fw fa-trash\"\" onclick=\"task_action({action:'purge', tag:'back-to-school', queue: 'localhost'})\"></i></div></pre><pre class=\"task_tags task_tag_cell_4ff5c855\">cell_4ff5c855<div class=\"task_tag_actions\"><i class=\"fa fa-fw fa-refresh\" onclick=\"task_action({action:'status', tag:'cell_4ff5c855', queue: 'localhost'})\"></i><i class=\"fa fa-fw fa-stop\"\" onclick=\"task_action({action:'kill', tag:'cell_4ff5c855', queue: 'localhost'})\"></i><i class=\"fa fa-fw fa-trash\"\" onclick=\"task_action({action:'purge', tag:'cell_4ff5c855', queue: 'localhost'})\"></i></div></pre></span>\n",
       "  </td>\n",
       "  <td class=\"task_timer\">\n",
       "    <pre><i class=\"fa fa-fw fa-clock-o\"></i><time id=\"status_duration_localhost_t82428d5d83fe961e_4ff5c855-cab1-42d5-8bb3-2582c776b254\" class=\"completed\" datetime=\"1629752730208.2932\">Ran for 5 min 5 sec</time></pre>\n",
       "  </td>\n",
       "  <td class=\"task_status\">\n",
       "    <pre><i class=\"fa fa-fw fa-tasks\"></i><span id=\"status_text_localhost_t82428d5d83fe961e_4ff5c855-cab1-42d5-8bb3-2582c776b254\">completed</span></pre>\n",
       "  </td>\n",
       "</tr>\n",
       "</table>\n"
      ]
     },
     "metadata": {},
     "output_type": "display_data"
    },
    {
     "data": {
      "text/html": [
       "\n",
       "<table id=\"task_localhost_t097bb120cae1b012_4ff5c855-cab1-42d5-8bb3-2582c776b254\" class=\"task_table completed\">\n",
       "<tr>\n",
       "  <td class=\"task_icon\">\n",
       "    <i id=\"task_status_icon_localhost_t097bb120cae1b012_4ff5c855-cab1-42d5-8bb3-2582c776b254\" class=\"fa fa-2x fa-fw fa-check-square-o\"\n",
       "    null null null></i>\n",
       "  </td>\n",
       "  <td class=\"task_id\">\n",
       "    <span><pre><i class=\"fa fa-fw fa-sitemap\"></i></pre><pre>t097bb120cae1b012<div class=\"task_id_actions\"><i class=\"fa fa-fw fa-refresh\" onclick=\"task_action({action:'status', task:'t097bb120cae1b012', queue: 'localhost'})\"></i><i class=\"fa fa-fw fa-play\" onclick=\"task_action({action:'execute', task:'t097bb120cae1b012', queue: 'localhost'})\"></i><i class=\"fa fa-fw fa-stop\"\" onclick=\"task_action({action:'kill', task:'t097bb120cae1b012', queue: 'localhost'})\"></i><i class=\"fa fa-fw fa-trash\"\" onclick=\"task_action({action:'purge', task:'t097bb120cae1b012', queue: 'localhost'})\"></i></div></pre></span>\n",
       "  </td>\n",
       "  <td class=\"task_tags\">\n",
       "    <span id=\"status_tags_localhost_t097bb120cae1b012_4ff5c855-cab1-42d5-8bb3-2582c776b254\"><pre><i class=\"fa fa-fw fa-info-circle\"></i></pre><pre class=\"task_tags task_tag_82ee0c612ac64867\">82ee0c612ac64867<div class=\"task_tag_actions\"><i class=\"fa fa-fw fa-refresh\" onclick=\"task_action({action:'status', tag:'82ee0c612ac64867', queue: 'localhost'})\"></i><i class=\"fa fa-fw fa-stop\"\" onclick=\"task_action({action:'kill', tag:'82ee0c612ac64867', queue: 'localhost'})\"></i><i class=\"fa fa-fw fa-trash\"\" onclick=\"task_action({action:'purge', tag:'82ee0c612ac64867', queue: 'localhost'})\"></i></div></pre><pre class=\"task_tags task_tag_C1600_elementary_no_mask\">C1600_elementary_no_mask<div class=\"task_tag_actions\"><i class=\"fa fa-fw fa-refresh\" onclick=\"task_action({action:'status', tag:'C1600_elementary_no_mask', queue: 'localhost'})\"></i><i class=\"fa fa-fw fa-stop\"\" onclick=\"task_action({action:'kill', tag:'C1600_elementary_no_mask', queue: 'localhost'})\"></i><i class=\"fa fa-fw fa-trash\"\" onclick=\"task_action({action:'purge', tag:'C1600_elementary_no_mask', queue: 'localhost'})\"></i></div></pre><pre class=\"task_tags task_tag_back-to-school\">back-to-school<div class=\"task_tag_actions\"><i class=\"fa fa-fw fa-refresh\" onclick=\"task_action({action:'status', tag:'back-to-school', queue: 'localhost'})\"></i><i class=\"fa fa-fw fa-stop\"\" onclick=\"task_action({action:'kill', tag:'back-to-school', queue: 'localhost'})\"></i><i class=\"fa fa-fw fa-trash\"\" onclick=\"task_action({action:'purge', tag:'back-to-school', queue: 'localhost'})\"></i></div></pre><pre class=\"task_tags task_tag_cell_4ff5c855\">cell_4ff5c855<div class=\"task_tag_actions\"><i class=\"fa fa-fw fa-refresh\" onclick=\"task_action({action:'status', tag:'cell_4ff5c855', queue: 'localhost'})\"></i><i class=\"fa fa-fw fa-stop\"\" onclick=\"task_action({action:'kill', tag:'cell_4ff5c855', queue: 'localhost'})\"></i><i class=\"fa fa-fw fa-trash\"\" onclick=\"task_action({action:'purge', tag:'cell_4ff5c855', queue: 'localhost'})\"></i></div></pre></span>\n",
       "  </td>\n",
       "  <td class=\"task_timer\">\n",
       "    <pre><i class=\"fa fa-fw fa-clock-o\"></i><time id=\"status_duration_localhost_t097bb120cae1b012_4ff5c855-cab1-42d5-8bb3-2582c776b254\" class=\"completed\" datetime=\"1629753034696.231\">Ran for 7 min 57 sec</time></pre>\n",
       "  </td>\n",
       "  <td class=\"task_status\">\n",
       "    <pre><i class=\"fa fa-fw fa-tasks\"></i><span id=\"status_text_localhost_t097bb120cae1b012_4ff5c855-cab1-42d5-8bb3-2582c776b254\">completed</span></pre>\n",
       "  </td>\n",
       "</tr>\n",
       "</table>\n"
      ]
     },
     "metadata": {},
     "output_type": "display_data"
    }
   ],
   "source": [
    "input: for_each=elementary_contexts\n",
    "\n",
    "task: queue='localhost', cores=4, walltime='1h', mem='4G', tags=name, workdir='.', trunk_size=1\n",
    "\n",
    "sh: expand=True\n",
    "  #rm -f {name}.log.lock\n",
    "  outbreak_simulator --popsize {pop_size} \\\n",
    "      --stop-if 't>{duration}' -j 4 \\\n",
    "      --track-events INFECTION WARNING PLUGIN SHOW_SYMPTOM QUARANTINE \\\n",
    "      --vicinity 'T-S*=0.5' 'T-T=10' 'S*-!&=0.25' 'S*-&=19' 'S*-T=3' \\\n",
    "      --repeat {num_replicates} --resume \\\n",
    "      --symptomatic-r0 {sym_r0} T={distancing_multiplier} 'S*={distancing_multiplier}' \\\n",
    "      --asymptomatic-r0 {asym_r0} T={distancing_multiplier} 'S*={distancing_multiplier}' \\\n",
    "      --incubation-period {incu_period} \\\n",
    "      --prop-asym-carriers {prop_asym_carriers} \\\n",
    "      --handle-symptomatic 'quarantine?duration=10&infected=true' \\\n",
    "      --logfile {name}.log \\\n",
    "      --plugin vaccinate \\\n",
    "          --start 0 --proportion {vac_proportion} --immunity {vac_immunity} \\\n",
    "          --infectivity {vac_infectivity} \\\n",
    "      --plugin community_infection --start 0 --interval 1 --probability {community_infection_rate} "
   ]
  },
  {
   "cell_type": "code",
   "execution_count": 32,
   "metadata": {
    "jupyter": {
     "source_hidden": true
    },
    "kernel": "SoS",
    "tags": []
   },
   "outputs": [],
   "source": [
    "import pickle\n",
    "import os\n",
    "import re\n",
    "import csv\n",
    "import pandas as pd\n",
    "from collections import defaultdict\n",
    "\n",
    "def get_result(name):\n",
    "    print(f'Processing {name}', flush=True)\n",
    "\n",
    "    res = {}\n",
    "    \n",
    "    file = open(name + '.log', 'rU')\n",
    "    reader = csv.reader(file, delimiter='\\t')\n",
    "    headers = next(reader, None)\n",
    "    IDs = set()\n",
    "    \n",
    "    n_s_workplace_infection = 0\n",
    "    n_t_workplace_infection = 0\n",
    "    n_s_community_infection = 0\n",
    "    n_t_community_infection = 0\n",
    "    n_s_quarantine_due_to_symptom = 0\n",
    "    n_t_quarantine_due_to_symptom = 0\n",
    "    \n",
    "    n_workplace_infections = defaultdict(int)\n",
    "    n_community_infections = defaultdict(int)\n",
    "    \n",
    "    for row in reader:\n",
    "        IDs.add(row[0])\n",
    "        if row[2] == 'INFECTION':\n",
    "            if row[4].startswith('by=.'):\n",
    "                if row[3].startswith('S'):\n",
    "                    n_s_community_infection += 1                    \n",
    "                else:\n",
    "                    n_t_community_infection += 1\n",
    "                n_community_infections[row[0]] += 1\n",
    "            else:\n",
    "                if row[3].startswith('S'):\n",
    "                    n_s_workplace_infection += 1                    \n",
    "                else:\n",
    "                    n_t_workplace_infection += 1\n",
    "                n_workplace_infections[row[0]] += 1\n",
    "        elif row[2] == 'QUARANTINE':\n",
    "            if 'reason=show symptom' in row[4]:\n",
    "                if row[3].startswith('S'):\n",
    "                    n_s_quarantine_due_to_symptom += 1                    \n",
    "                else:\n",
    "                    n_t_quarantine_due_to_symptom += 1            \n",
    "    file.close()\n",
    "    \n",
    "    replicates = len(IDs)\n",
    "    \n",
    "    # we need to scale to 2000 person weeks\n",
    "    # num_events = 8 weeks * 60 people * replicates\n",
    "    # num_events * 2000/replicates/8/60 = 2000 week person\n",
    "    school = \"high\" if 'high' in name else 'elementary'\n",
    "    if school == \"high\":\n",
    "        scaling_factor = 1 / replicates\n",
    "        n_teachers = 100\n",
    "        n_students = 800\n",
    "    else:\n",
    "        scaling_factor = 1 / replicates\n",
    "        n_teachers = 60\n",
    "        n_students = 500\n",
    "\n",
    "    res['Proportion of schools with no infection %'] = 100 - len(n_workplace_infections) * scaling_factor * 100\n",
    "    \n",
    "    #res['Avg number of community acquired Infections'] = (n_s_community_infection + n_t_community_infection ) * scaling_factor    \n",
    "    #res['Avg number of school acquired Infections'] = (n_s_workplace_infection + n_t_workplace_infection) * scaling_factor\n",
    "    \n",
    "    res['Avg proportion of students infected from community %'] = (n_s_community_infection * scaling_factor) / n_students * 100\n",
    "    \n",
    "    res['Avg proportion of students infected from school %'] = (n_s_workplace_infection * scaling_factor) / n_students * 100\n",
    "    #res['Avg proportion of teacher infected from school %'] = (n_t_workplace_infection * scaling_factor) / n_teachers * 100\n",
    "    \n",
    "    res['Avg proportion of students isolated %'] = n_s_quarantine_due_to_symptom * scaling_factor  / n_students * 100\n",
    "    #res['Avg proportion of symptomatic teachers %'] = n_t_quarantine_due_to_symptom * scaling_factor  / n_teachers * 100\n",
    "    #res['num_replicates'] = replicates\n",
    "\n",
    "    with open(name + '.pickle', 'wb') as outfile:\n",
    "        pickle.dump(res, outfile)\n",
    "    return res"
   ]
  },
  {
   "cell_type": "code",
   "execution_count": 33,
   "metadata": {
    "collapsed": true,
    "jupyter": {
     "outputs_hidden": true,
     "source_hidden": true
    },
    "kernel": "SoS",
    "tags": []
   },
   "outputs": [
    {
     "name": "stdout",
     "output_type": "stream",
     "text": [
      "Processing C1600_high_with_mask\n",
      "Processing C1600_high_partial_mask\n",
      "Processing C1600_high_no_mask\n",
      "Processing C1600_elementary_with_mask\n",
      "Processing C1600_elementary_partial_mask\n",
      "Processing C1600_elementary_no_mask\n"
     ]
    }
   ],
   "source": [
    "for name in [x['name'] for x in all_contexts]:\n",
    "    get_result(name)"
   ]
  }
 ],
 "metadata": {
  "kernelspec": {
   "display_name": "SoS",
   "language": "sos",
   "name": "sos"
  },
  "language_info": {
   "codemirror_mode": "sos",
   "file_extension": ".sos",
   "mimetype": "text/x-sos",
   "name": "sos",
   "nbconvert_exporter": "sos_notebook.converter.SoS_Exporter",
   "pygments_lexer": "sos"
  },
  "sos": {
   "kernels": [
    [
     "SoS",
     "sos",
     "",
     ""
    ]
   ],
   "version": "0.22.6"
  }
 },
 "nbformat": 4,
 "nbformat_minor": 4
}
